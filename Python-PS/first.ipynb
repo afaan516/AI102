{
 "cells": [
  {
   "cell_type": "code",
   "execution_count": 4,
   "metadata": {},
   "outputs": [
    {
     "name": "stdout",
     "output_type": "stream",
     "text": [
      "hello world\n"
     ]
    }
   ],
   "source": [
    "print(\"hello world\")"
   ]
  },
  {
   "cell_type": "code",
   "execution_count": 13,
   "metadata": {},
   "outputs": [],
   "source": [
    "i = 0\n",
    "while(1>51):\n",
    "    print(i)\n",
    "    i+=1"
   ]
  },
  {
   "cell_type": "code",
   "execution_count": 6,
   "metadata": {},
   "outputs": [
    {
     "name": "stdout",
     "output_type": "stream",
     "text": [
      "hello world\n"
     ]
    }
   ],
   "source": [
    "print(\"hello world\")"
   ]
  },
  {
   "cell_type": "code",
   "execution_count": 7,
   "metadata": {},
   "outputs": [
    {
     "name": "stdout",
     "output_type": "stream",
     "text": [
      "0\n",
      "1\n",
      "2\n",
      "3\n"
     ]
    }
   ],
   "source": [
    "for i in range(4):\n",
    "    print(i)"
   ]
  },
  {
   "cell_type": "code",
   "execution_count": 11,
   "metadata": {},
   "outputs": [
    {
     "name": "stdout",
     "output_type": "stream",
     "text": [
      "1\n",
      "5\n",
      "9\n",
      "13\n",
      "17\n",
      "21\n",
      "25\n",
      "29\n",
      "33\n",
      "37\n",
      "41\n",
      "45\n",
      "49\n",
      "53\n",
      "57\n"
     ]
    }
   ],
   "source": [
    "i = 0\n",
    "for i in range(1,60,4):\n",
    "    print(i)\n",
    "    i = i + 1"
   ]
  },
  {
   "cell_type": "code",
   "execution_count": 14,
   "metadata": {},
   "outputs": [
    {
     "name": "stdout",
     "output_type": "stream",
     "text": [
      "Affan\n",
      "Affan\n",
      "Affan\n",
      "Affan\n",
      "Affan\n"
     ]
    }
   ],
   "source": [
    "i = 0\n",
    "while(i<5):\n",
    "    print(\"Affan\")\n",
    "    i = i + 1\n"
   ]
  },
  {
   "cell_type": "code",
   "execution_count": 18,
   "metadata": {},
   "outputs": [
    {
     "name": "stdout",
     "output_type": "stream",
     "text": [
      "2\n",
      "affan\n",
      "faris\n",
      "usman\n",
      "gohar\n"
     ]
    }
   ],
   "source": [
    "l = [2 ,\"affan\", \"faris\", \"usman\",\"gohar\"]\n",
    "i = 0\n",
    "while i < len(l):\n",
    "    print(l[i])\n",
    "    i += 1\n",
    "\n"
   ]
  },
  {
   "cell_type": "code",
   "execution_count": 19,
   "metadata": {},
   "outputs": [
    {
     "name": "stdout",
     "output_type": "stream",
     "text": [
      "1\n",
      "234\n",
      "567\n",
      "2\n",
      "5\n",
      "7\n",
      "568\n"
     ]
    }
   ],
   "source": [
    "l = [1,234,567,2,5,7,568]\n",
    "for i in l:\n",
    "    print(i)"
   ]
  },
  {
   "cell_type": "code",
   "execution_count": 20,
   "metadata": {},
   "outputs": [
    {
     "name": "stdout",
     "output_type": "stream",
     "text": [
      "1\n",
      "2\n",
      "3\n",
      "5\n",
      "6\n"
     ]
    }
   ],
   "source": [
    "t = (1,2,3,5,6)\n",
    "for i in t:\n",
    "    print(i)"
   ]
  },
  {
   "cell_type": "code",
   "execution_count": 124,
   "metadata": {},
   "outputs": [
    {
     "name": "stdout",
     "output_type": "stream",
     "text": [
      "affan\n",
      "new\n",
      "No items in the list\n"
     ]
    }
   ],
   "source": [
    "n = (\"affan\",'new')\n",
    "for i in n:\n",
    "    print(i)\n",
    "else: \n",
    "    print(\"No items in the list\")"
   ]
  },
  {
   "cell_type": "code",
   "execution_count": 23,
   "metadata": {},
   "outputs": [
    {
     "name": "stdout",
     "output_type": "stream",
     "text": [
      "0\n",
      "1\n",
      "2\n",
      "3\n",
      "4\n",
      "5\n",
      "6\n",
      "7\n",
      "8\n",
      "9\n",
      "10\n",
      "11\n",
      "12\n",
      "13\n",
      "14\n",
      "15\n",
      "16\n",
      "17\n",
      "18\n",
      "19\n",
      "20\n",
      "21\n",
      "22\n",
      "23\n",
      "24\n",
      "25\n",
      "26\n",
      "27\n",
      "28\n",
      "29\n",
      "30\n",
      "31\n",
      "32\n",
      "33\n"
     ]
    }
   ],
   "source": [
    "for i  in range (100):\n",
    "    if(i == 34):\n",
    "        break\n",
    "    print(i)"
   ]
  },
  {
   "cell_type": "code",
   "execution_count": 24,
   "metadata": {},
   "outputs": [
    {
     "name": "stdout",
     "output_type": "stream",
     "text": [
      "0\n",
      "1\n",
      "2\n",
      "3\n",
      "4\n",
      "5\n",
      "6\n",
      "7\n",
      "8\n",
      "9\n",
      "10\n",
      "11\n",
      "12\n",
      "13\n",
      "14\n",
      "15\n",
      "16\n",
      "17\n",
      "18\n",
      "19\n",
      "20\n",
      "21\n",
      "22\n",
      "23\n",
      "24\n",
      "25\n",
      "26\n",
      "27\n",
      "28\n",
      "29\n",
      "30\n",
      "31\n",
      "32\n",
      "33\n",
      "35\n",
      "36\n",
      "37\n",
      "38\n",
      "39\n",
      "40\n",
      "41\n",
      "42\n",
      "43\n",
      "44\n",
      "45\n",
      "46\n",
      "47\n",
      "48\n",
      "49\n",
      "50\n",
      "51\n",
      "52\n",
      "53\n",
      "54\n",
      "55\n",
      "56\n",
      "57\n",
      "58\n",
      "59\n",
      "60\n",
      "61\n",
      "62\n",
      "63\n",
      "64\n",
      "65\n",
      "66\n",
      "67\n",
      "68\n",
      "69\n",
      "70\n",
      "71\n",
      "72\n",
      "73\n",
      "74\n",
      "75\n",
      "76\n",
      "77\n",
      "78\n",
      "79\n",
      "80\n",
      "81\n",
      "82\n",
      "83\n",
      "84\n",
      "85\n",
      "86\n",
      "87\n",
      "88\n",
      "89\n",
      "90\n",
      "91\n",
      "92\n",
      "93\n",
      "94\n",
      "95\n",
      "96\n",
      "97\n",
      "98\n",
      "99\n"
     ]
    }
   ],
   "source": [
    "for i  in range (100):\n",
    "    if(i == 34):\n",
    "        continue\n",
    "    print(i)"
   ]
  },
  {
   "cell_type": "code",
   "execution_count": 126,
   "metadata": {},
   "outputs": [
    {
     "name": "stdout",
     "output_type": "stream",
     "text": [
      "1\n",
      "2\n"
     ]
    }
   ],
   "source": [
    "n = 1,2,3\n",
    "for i in (n):\n",
    "    if(i == 3):\n",
    "        break\n",
    "    print(i)\n",
    "    "
   ]
  },
  {
   "cell_type": "code",
   "execution_count": 30,
   "metadata": {},
   "outputs": [
    {
     "name": "stdout",
     "output_type": "stream",
     "text": [
      "a\n",
      "f\n",
      "f\n",
      "a\n",
      "n\n",
      "No items in the list\n"
     ]
    }
   ],
   "source": [
    "for i in range(100):\n",
    "    pass\n",
    "\n",
    "\n",
    "n = \"affan\"\n",
    "for i in n:\n",
    "    print(i)\n",
    "else: \n",
    "    print(\"No items in the list\")"
   ]
  },
  {
   "cell_type": "code",
   "execution_count": 129,
   "metadata": {},
   "outputs": [
    {
     "name": "stdout",
     "output_type": "stream",
     "text": [
      "5X10 = 50\n",
      "5X9 = 45\n",
      "5X8 = 40\n",
      "5X7 = 35\n",
      "5X6 = 30\n",
      "5X5 = 25\n",
      "5X4 = 20\n",
      "5X3 = 15\n",
      "5X2 = 10\n",
      "5X1 = 5\n"
     ]
    }
   ],
   "source": [
    "n = int(input(\"Enter a number: \"))\n",
    "for i in range(1,11):\n",
    "    print(f\"{n}X{11-i} = {n *(11- i)}\")"
   ]
  },
  {
   "cell_type": "code",
   "execution_count": 2,
   "metadata": {},
   "outputs": [
    {
     "name": "stdout",
     "output_type": "stream",
     "text": [
      "9\n"
     ]
    }
   ],
   "source": [
    "num= input(\"Enter a number\")\n",
    "num = int(num)\n",
    "print(num)"
   ]
  },
  {
   "cell_type": "code",
   "execution_count": 6,
   "metadata": {},
   "outputs": [
    {
     "name": "stdout",
     "output_type": "stream",
     "text": [
      "this is the sum:  hello  world\n"
     ]
    }
   ],
   "source": [
    "str1=\"hello\"\n",
    "str2=\"world\"\n",
    "result= str1+\"  \"+str2\n",
    "print(\"this is the sum: \",result)\n"
   ]
  },
  {
   "cell_type": "code",
   "execution_count": 7,
   "metadata": {},
   "outputs": [
    {
     "name": "stdout",
     "output_type": "stream",
     "text": [
      "hellohellohello\n"
     ]
    }
   ],
   "source": [
    "str1=\"hello\"\n",
    "result=str1*3\n",
    "print(result)"
   ]
  },
  {
   "cell_type": "code",
   "execution_count": 19,
   "metadata": {},
   "outputs": [
    {
     "name": "stdout",
     "output_type": "stream",
     "text": [
      "hello\n",
      "HELLO , WORLD\n",
      "hello , world\n",
      "HELLO , WORLD\n",
      "['hello ', ' world']\n"
     ]
    }
   ],
   "source": [
    "str1=\"hello , world\"\n",
    "print(str1[0:5])\n",
    "print(str1.upper())\n",
    "print(str1.lower())\n",
    "print(str1.swapcase())\n",
    "print(str1.split(\",\"))"
   ]
  },
  {
   "cell_type": "code",
   "execution_count": 20,
   "metadata": {},
   "outputs": [
    {
     "name": "stdout",
     "output_type": "stream",
     "text": [
      "('one', 'two', 'three')\n"
     ]
    },
    {
     "ename": "AttributeError",
     "evalue": "'tuple' object has no attribute 'split'",
     "output_type": "error",
     "traceback": [
      "\u001b[1;31m---------------------------------------------------------------------------\u001b[0m",
      "\u001b[1;31mAttributeError\u001b[0m                            Traceback (most recent call last)",
      "Cell \u001b[1;32mIn[20], line 3\u001b[0m\n\u001b[0;32m      1\u001b[0m str2\u001b[38;5;241m=\u001b[39m\u001b[38;5;124m\"\u001b[39m\u001b[38;5;124mone\u001b[39m\u001b[38;5;124m\"\u001b[39m,\u001b[38;5;124m\"\u001b[39m\u001b[38;5;124mtwo\u001b[39m\u001b[38;5;124m\"\u001b[39m,\u001b[38;5;124m\"\u001b[39m\u001b[38;5;124mthree\u001b[39m\u001b[38;5;124m\"\u001b[39m\n\u001b[0;32m      2\u001b[0m \u001b[38;5;28mprint\u001b[39m(str2)\n\u001b[1;32m----> 3\u001b[0m \u001b[38;5;28mprint\u001b[39m(\u001b[43mstr2\u001b[49m\u001b[38;5;241;43m.\u001b[39;49m\u001b[43msplit\u001b[49m(\u001b[38;5;124m\"\u001b[39m\u001b[38;5;124m \u001b[39m\u001b[38;5;124m\"\u001b[39m))\n",
      "\u001b[1;31mAttributeError\u001b[0m: 'tuple' object has no attribute 'split'"
     ]
    }
   ],
   "source": [
    "str2=\"one\",\"two\",\"three\"\n",
    "print(str2)\n",
    "print(str2.split(\" \"))\n"
   ]
  },
  {
   "cell_type": "code",
   "execution_count": 22,
   "metadata": {},
   "outputs": [
    {
     "name": "stdout",
     "output_type": "stream",
     "text": [
      "value is smaaller then 5\n"
     ]
    }
   ],
   "source": [
    "a=1\n",
    "if (a>5):\n",
    "    print(\"a is greater then 5\")\n",
    "else:print(\"value is smaaller then 5\")"
   ]
  },
  {
   "cell_type": "code",
   "execution_count": 25,
   "metadata": {},
   "outputs": [
    {
     "name": "stdout",
     "output_type": "stream",
     "text": [
      "sorry i cannot understand the given number please try again later\n"
     ]
    }
   ],
   "source": [
    "a = 31\n",
    "b = 33\n",
    "if (b<a):\n",
    "    print(\"b i grester the a\")\n",
    "elif (a==b):\n",
    "    print(\"a and b are equal\")\n",
    "else:print (\"sorry i cannot understand the given number please try again later\")"
   ]
  },
  {
   "cell_type": "code",
   "execution_count": 29,
   "metadata": {},
   "outputs": [
    {
     "name": "stdout",
     "output_type": "stream",
     "text": [
      "x is 10 or less\n"
     ]
    }
   ],
   "source": [
    "x = 2\n",
    "if x > 10:\n",
    "    print(\"x i sgreater then 10\")\n",
    "    if x > 20:\n",
    "        print(\"x is also greater then 20\")\n",
    "    else:(\"x is 10 t0 20\")\n",
    "else:print(\"x is 10 or less\")    "
   ]
  },
  {
   "cell_type": "code",
   "execution_count": 6,
   "metadata": {},
   "outputs": [
    {
     "name": "stdout",
     "output_type": "stream",
     "text": [
      "1 Outer loop is execued\n",
      "1 Inner loop is executed\n",
      "end of code\n"
     ]
    }
   ],
   "source": [
    "i = 1\n",
    "while i<=1:\n",
    "    print(i, \"Outer loop is execued\")\n",
    "    j = 1\n",
    "    while j <=1:\n",
    "        print(j, \"Inner loop is executed\")\n",
    "        j +=1\n",
    "    i += 1\n",
    "print(\"end of code\")"
   ]
  },
  {
   "cell_type": "code",
   "execution_count": 9,
   "metadata": {},
   "outputs": [
    {
     "name": "stdout",
     "output_type": "stream",
     "text": [
      "0\n",
      "1\n",
      "2\n",
      "loop ended\n"
     ]
    }
   ],
   "source": [
    "i = 0\n",
    "while i<6:\n",
    "    if i==3:\n",
    "        break\n",
    "    print(i)\n",
    "    i +=1\n",
    "print(\"loop ended\")"
   ]
  },
  {
   "cell_type": "code",
   "execution_count": 131,
   "metadata": {},
   "outputs": [
    {
     "name": "stdout",
     "output_type": "stream",
     "text": [
      "1\n",
      "2\n",
      "4\n",
      "5\n",
      "7\n",
      "8\n",
      "10\n",
      "loop ended\n"
     ]
    }
   ],
   "source": [
    "i = 0\n",
    "while i<=10:\n",
    "    if i%3==0:\n",
    "        i +=1\n",
    "        continue\n",
    "    print(i)\n",
    "    i +=1\n",
    "print(\"loop ended\")"
   ]
  },
  {
   "cell_type": "code",
   "execution_count": 18,
   "metadata": {},
   "outputs": [
    {
     "name": "stdout",
     "output_type": "stream",
     "text": [
      "This is the sum: 17.3\n",
      "This is the sub: -5.3\n",
      "This is the mul: 124.19999999999999\n",
      "This is the div: 0.2898550724637681\n"
     ]
    }
   ],
   "source": [
    "'''\n",
    "Accept two integers and one float from the user. Perform addition, subtraction, and\n",
    "multiplication on these numbers and print the results.\n",
    "'''\n",
    "num1 = input(\"Enter a number: \")\n",
    "num1 = int(num1)\n",
    "num2 = input(\"Enter second number: \")\n",
    "num2 = int(num2)\n",
    "num3 = input(\"enter float number: \")\n",
    "num3 = float(num3)\n",
    "# perform operations on number \n",
    "sum = num1+num2+num3\n",
    "sub = num1-num2-num3\n",
    "mul = num1*num2*num3\n",
    "div = num1/num2/num3\n",
    "print(\"This is the sum:\",sum)\n",
    "print(\"This is the sub:\",sub)\n",
    "print(\"This is the mul:\",mul)\n",
    "print(\"This is the div:\",div)\n"
   ]
  },
  {
   "cell_type": "code",
   "execution_count": 22,
   "metadata": {},
   "outputs": [
    {
     "name": "stdout",
     "output_type": "stream",
     "text": [
      "congratulations! Affan  you are  19 years old\n"
     ]
    }
   ],
   "source": [
    "'''    \n",
    "Write a program that asks the user for their name and age, then prints a greeting message\n",
    "that includes their name and age.\n",
    "'''\n",
    "\n",
    "name = input(\"enter your name: \")\n",
    "age=   input(\"enter your age\")\n",
    "print(\"congratulations!\",name,\" you are \",age,\"years old\")"
   ]
  },
  {
   "cell_type": "code",
   "execution_count": 1,
   "metadata": {},
   "outputs": [
    {
     "name": "stdout",
     "output_type": "stream",
     "text": [
      "5\n"
     ]
    }
   ],
   "source": [
    "num = input(\"enter a number: \")\n",
    "lenght=len(num)\n",
    "print(lenght)"
   ]
  },
  {
   "cell_type": "code",
   "execution_count": 8,
   "metadata": {},
   "outputs": [
    {
     "name": "stdout",
     "output_type": "stream",
     "text": [
      "amman\n"
     ]
    }
   ],
   "source": [
    "s= \"affan\"\n",
    "n= \"f\"\n",
    "g=\"m\"\n",
    "af=s.replace(n,g)\n",
    "print(af)"
   ]
  },
  {
   "cell_type": "code",
   "execution_count": 15,
   "metadata": {},
   "outputs": [
    {
     "name": "stdout",
     "output_type": "stream",
     "text": [
      "HELLO AFFAN GOAHR hello affan goahr\n"
     ]
    }
   ],
   "source": [
    "user=input(\"Enter a number: \")\n",
    "n1=user.upper()\n",
    "n2=user.lower()\n",
    "print(n1,n2)"
   ]
  },
  {
   "cell_type": "code",
   "execution_count": 2,
   "metadata": {},
   "outputs": [
    {
     "name": "stdout",
     "output_type": "stream",
     "text": [
      "hello world\n"
     ]
    }
   ],
   "source": [
    "print(\"hello world\")"
   ]
  },
  {
   "cell_type": "code",
   "execution_count": 1,
   "metadata": {},
   "outputs": [
    {
     "name": "stdout",
     "output_type": "stream",
     "text": [
      "apple\n",
      "mangoe\n",
      "banana\n"
     ]
    }
   ],
   "source": [
    "list0 = [\"apple\",\"mangoe\",\"banana\"]\n",
    "for x in list0:\n",
    "    print(x)"
   ]
  },
  {
   "cell_type": "code",
   "execution_count": 9,
   "metadata": {},
   "outputs": [
    {
     "name": "stdout",
     "output_type": "stream",
     "text": [
      "46\n"
     ]
    }
   ],
   "source": [
    "list1=[2,4,6,8,10,11,13,16]\n",
    "sum=0\n",
    "for num in list1:\n",
    "    if num % 2 == 0:\n",
    "        sum += num\n",
    "print(sum)        "
   ]
  },
  {
   "cell_type": "code",
   "execution_count": 37,
   "metadata": {},
   "outputs": [
    {
     "name": "stdout",
     "output_type": "stream",
     "text": [
      "70\n"
     ]
    }
   ],
   "source": [
    "list1=[2,4,6,8,10,11,13,16]\n",
    "sum = 0\n",
    "for num in list1:      #for sum of all values\n",
    "    sum = sum + num\n",
    "    # if num % 2 == 0: for sum of even valuse\n",
    "        # sum = sum + num\n",
    "print(sum)"
   ]
  },
  {
   "cell_type": "code",
   "execution_count": 15,
   "metadata": {},
   "outputs": [
    {
     "name": "stdout",
     "output_type": "stream",
     "text": [
      "[1, 2, 3, 4]\n"
     ]
    }
   ],
   "source": [
    "list2=[1,2,3]\n",
    "list2.append(4)\n",
    "print(list2)"
   ]
  },
  {
   "cell_type": "code",
   "execution_count": 16,
   "metadata": {},
   "outputs": [
    {
     "data": {
      "text/plain": [
       "[1, 2, 3, 4]"
      ]
     },
     "execution_count": 16,
     "metadata": {},
     "output_type": "execute_result"
    }
   ],
   "source": [
    "list2"
   ]
  },
  {
   "cell_type": "code",
   "execution_count": 17,
   "metadata": {},
   "outputs": [
    {
     "data": {
      "text/plain": [
       "[1, 10, 2, 3, 4]"
      ]
     },
     "execution_count": 17,
     "metadata": {},
     "output_type": "execute_result"
    }
   ],
   "source": [
    "list2.insert(1,10)\n",
    "list2"
   ]
  },
  {
   "cell_type": "code",
   "execution_count": 18,
   "metadata": {},
   "outputs": [
    {
     "data": {
      "text/plain": [
       "[1, 10, 2, 3, 4, 11]"
      ]
     },
     "execution_count": 18,
     "metadata": {},
     "output_type": "execute_result"
    }
   ],
   "source": [
    "list2.insert(10,11)\n",
    "list2"
   ]
  },
  {
   "cell_type": "code",
   "execution_count": 19,
   "metadata": {},
   "outputs": [
    {
     "data": {
      "text/plain": [
       "[1, 10, 12, 2, 3, 4, 11]"
      ]
     },
     "execution_count": 19,
     "metadata": {},
     "output_type": "execute_result"
    }
   ],
   "source": [
    "list2.insert(2,12)\n",
    "list2"
   ]
  },
  {
   "cell_type": "code",
   "execution_count": 20,
   "metadata": {},
   "outputs": [
    {
     "data": {
      "text/plain": [
       "[1, 10, 12, 19, 2, 3, 4, 11]"
      ]
     },
     "execution_count": 20,
     "metadata": {},
     "output_type": "execute_result"
    }
   ],
   "source": [
    "list2.insert(3,19)\n",
    "list2"
   ]
  },
  {
   "cell_type": "code",
   "execution_count": 21,
   "metadata": {},
   "outputs": [
    {
     "name": "stdout",
     "output_type": "stream",
     "text": [
      "[2, 4, 6, 8, 10, 11, 13, 16, 4, 4, 4, 1, 10, 12, 19, 2, 3, 4, 11]\n"
     ]
    }
   ],
   "source": [
    "list1.extend(list2)\n",
    "print(list1)"
   ]
  },
  {
   "cell_type": "code",
   "execution_count": 25,
   "metadata": {},
   "outputs": [
    {
     "data": {
      "text/plain": [
       "[2, 6, 8, 10, 11, 13, 16, 4, 10, 12, 19, 2, 3, 4, 11]"
      ]
     },
     "execution_count": 25,
     "metadata": {},
     "output_type": "execute_result"
    }
   ],
   "source": [
    "list1.remove(1)\n",
    "list1"
   ]
  },
  {
   "cell_type": "code",
   "execution_count": 26,
   "metadata": {},
   "outputs": [
    {
     "data": {
      "text/plain": [
       "[2, 6, 8, 11, 13, 16, 4, 10, 12, 19, 2, 3, 4, 11]"
      ]
     },
     "execution_count": 26,
     "metadata": {},
     "output_type": "execute_result"
    }
   ],
   "source": [
    "list1.remove(10)\n",
    "list1"
   ]
  },
  {
   "cell_type": "code",
   "execution_count": 27,
   "metadata": {},
   "outputs": [
    {
     "data": {
      "text/plain": [
       "[2, 6, 8, 11, 13, 16, 4, 10, 12, 19, 2, 3, 4]"
      ]
     },
     "execution_count": 27,
     "metadata": {},
     "output_type": "execute_result"
    }
   ],
   "source": [
    "list1.pop(-1)\n",
    "list1"
   ]
  },
  {
   "cell_type": "code",
   "execution_count": 30,
   "metadata": {},
   "outputs": [
    {
     "name": "stdout",
     "output_type": "stream",
     "text": [
      "2\n"
     ]
    }
   ],
   "source": [
    "count = list1.count(4)\n",
    "print(count)\n"
   ]
  },
  {
   "cell_type": "code",
   "execution_count": 31,
   "metadata": {},
   "outputs": [
    {
     "data": {
      "text/plain": [
       "[2, 2, 3, 4, 4, 6, 8, 10, 11, 12, 13, 16, 19]"
      ]
     },
     "execution_count": 31,
     "metadata": {},
     "output_type": "execute_result"
    }
   ],
   "source": [
    "list1.sort()\n",
    "list1"
   ]
  },
  {
   "cell_type": "code",
   "execution_count": 32,
   "metadata": {},
   "outputs": [
    {
     "data": {
      "text/plain": [
       "[19, 16, 13, 12, 11, 10, 8, 6, 4, 4, 3, 2, 2]"
      ]
     },
     "execution_count": 32,
     "metadata": {},
     "output_type": "execute_result"
    }
   ],
   "source": [
    "list1.sort(reverse=True)\n",
    "list1"
   ]
  },
  {
   "cell_type": "code",
   "execution_count": 35,
   "metadata": {},
   "outputs": [
    {
     "data": {
      "text/plain": [
       "[2, 2, 3, 4, 4, 6, 8, 10, 11, 12, 13, 16, 19]"
      ]
     },
     "execution_count": 35,
     "metadata": {},
     "output_type": "execute_result"
    }
   ],
   "source": [
    "list1.sort()\n",
    "list1"
   ]
  },
  {
   "cell_type": "code",
   "execution_count": 37,
   "metadata": {},
   "outputs": [
    {
     "data": {
      "text/plain": [
       "[9, 3, 4, 5, 8, 7, 6, 3, 4, 7, 5, 4]"
      ]
     },
     "execution_count": 37,
     "metadata": {},
     "output_type": "execute_result"
    }
   ],
   "source": [
    "list3 = [4,5,7,4,3,6,7,8,5,4,3,9]\n",
    "list3.reverse()\n",
    "list3"
   ]
  },
  {
   "cell_type": "code",
   "execution_count": 41,
   "metadata": {},
   "outputs": [
    {
     "data": {
      "text/plain": [
       "[2, 2, 3, 4, 4, 6, 8, 10, 11, 12, 13, 16, 19]"
      ]
     },
     "execution_count": 41,
     "metadata": {},
     "output_type": "execute_result"
    }
   ],
   "source": [
    "new = list1\n",
    "new"
   ]
  },
  {
   "cell_type": "code",
   "execution_count": 38,
   "metadata": {},
   "outputs": [
    {
     "data": {
      "text/plain": [
       "[3, 3, 4, 4, 4, 5, 5, 6, 7, 7, 8, 9]"
      ]
     },
     "execution_count": 38,
     "metadata": {},
     "output_type": "execute_result"
    }
   ],
   "source": [
    "list3.sort()\n",
    "list3"
   ]
  },
  {
   "cell_type": "code",
   "execution_count": 42,
   "metadata": {},
   "outputs": [],
   "source": [
    "new.clear()"
   ]
  },
  {
   "cell_type": "code",
   "execution_count": 43,
   "metadata": {},
   "outputs": [
    {
     "data": {
      "text/plain": [
       "[]"
      ]
     },
     "execution_count": 43,
     "metadata": {},
     "output_type": "execute_result"
    }
   ],
   "source": [
    "new"
   ]
  },
  {
   "cell_type": "code",
   "execution_count": 1,
   "metadata": {},
   "outputs": [
    {
     "data": {
      "text/plain": [
       "(22, 33, 56)"
      ]
     },
     "execution_count": 1,
     "metadata": {},
     "output_type": "execute_result"
    }
   ],
   "source": [
    "mylist= [22,33,56]\n",
    "mytuple=tuple(mylist)\n",
    "mytuple"
   ]
  },
  {
   "cell_type": "code",
   "execution_count": 3,
   "metadata": {},
   "outputs": [
    {
     "data": {
      "text/plain": [
       "44"
      ]
     },
     "execution_count": 3,
     "metadata": {},
     "output_type": "execute_result"
    }
   ],
   "source": [
    "mytuple1=(22,33,44)\n",
    "newlist=list(mytuple1)\n",
    "newlist[2]"
   ]
  },
  {
   "cell_type": "code",
   "execution_count": 4,
   "metadata": {},
   "outputs": [
    {
     "name": "stdout",
     "output_type": "stream",
     "text": [
      "banana is in this tuple\n"
     ]
    }
   ],
   "source": [
    "my_tuple=('banana','apple','mangoe')\n",
    "if 'banana' in my_tuple:\n",
    "    print('banana is in this tuple')"
   ]
  },
  {
   "cell_type": "code",
   "execution_count": 6,
   "metadata": {},
   "outputs": [
    {
     "name": "stdout",
     "output_type": "stream",
     "text": [
      "apple\n"
     ]
    }
   ],
   "source": [
    "my_tuple=('banana','apple','mangoe')\n",
    "if 'apple' in my_tuple:\n",
    "    print('apple')"
   ]
  },
  {
   "cell_type": "code",
   "execution_count": 8,
   "metadata": {},
   "outputs": [
    {
     "name": "stdout",
     "output_type": "stream",
     "text": [
      "{'brand': 'Suzuki', 'model': 'Alto', 'year': '2023'}\n",
      "Suzuki\n"
     ]
    }
   ],
   "source": [
    "mydict = {\n",
    "    \"brand\":\"Suzuki\",\n",
    "    \"model\":\"Alto\",\n",
    "    \"year\":\"2023\"\n",
    "}\n",
    "print(mydict)\n",
    "x = mydict[\"brand\"]\n",
    "print(x)"
   ]
  },
  {
   "cell_type": "code",
   "execution_count": 9,
   "metadata": {},
   "outputs": [
    {
     "data": {
      "text/plain": [
       "{'brand': 'Suzuki', 'model': '2022', 'year': '2023', 'country': 'USA'}"
      ]
     },
     "execution_count": 9,
     "metadata": {},
     "output_type": "execute_result"
    }
   ],
   "source": [
    "mydict['country']='USA'\n",
    "mydict['model']='2022'\n",
    "mydict"
   ]
  },
  {
   "cell_type": "code",
   "execution_count": 10,
   "metadata": {},
   "outputs": [
    {
     "name": "stdout",
     "output_type": "stream",
     "text": [
      "brand\n",
      "model\n",
      "year\n",
      "country\n"
     ]
    }
   ],
   "source": [
    "for x in mydict:\n",
    "    print(x)"
   ]
  },
  {
   "cell_type": "code",
   "execution_count": 11,
   "metadata": {},
   "outputs": [
    {
     "name": "stdout",
     "output_type": "stream",
     "text": [
      "Suzuki\n",
      "2022\n",
      "2023\n",
      "USA\n"
     ]
    }
   ],
   "source": [
    "for x in mydict:\n",
    "    print(mydict[x])"
   ]
  },
  {
   "cell_type": "code",
   "execution_count": 13,
   "metadata": {},
   "outputs": [
    {
     "name": "stdout",
     "output_type": "stream",
     "text": [
      "brand\n",
      "model\n",
      "year\n",
      "country\n"
     ]
    }
   ],
   "source": [
    "for x in mydict.keys():\n",
    "    print(x)"
   ]
  },
  {
   "cell_type": "code",
   "execution_count": 14,
   "metadata": {},
   "outputs": [
    {
     "name": "stdout",
     "output_type": "stream",
     "text": [
      "Suzuki\n",
      "2022\n",
      "2023\n",
      "USA\n"
     ]
    }
   ],
   "source": [
    "for x in mydict.values():\n",
    "    print(x)"
   ]
  },
  {
   "cell_type": "code",
   "execution_count": 19,
   "metadata": {},
   "outputs": [
    {
     "data": {
      "text/plain": [
       "{2, 3, 4, 5}"
      ]
     },
     "execution_count": 19,
     "metadata": {},
     "output_type": "execute_result"
    }
   ],
   "source": [
    "myset= {1,2,3,4}\n",
    "myset.add(5)\n",
    "myset.remove(1)\n",
    "myset"
   ]
  },
  {
   "cell_type": "code",
   "execution_count": 20,
   "metadata": {},
   "outputs": [
    {
     "data": {
      "text/plain": [
       "{1, 2, 3, 4, 5}"
      ]
     },
     "execution_count": 20,
     "metadata": {},
     "output_type": "execute_result"
    }
   ],
   "source": [
    "set1={1,2,3}\n",
    "set2={3,4,5}\n",
    "unionset=set1|set2\n",
    "unionset"
   ]
  },
  {
   "cell_type": "code",
   "execution_count": 21,
   "metadata": {},
   "outputs": [
    {
     "data": {
      "text/plain": [
       "{3}"
      ]
     },
     "execution_count": 21,
     "metadata": {},
     "output_type": "execute_result"
    }
   ],
   "source": [
    "intersec=set1&set2\n",
    "intersec"
   ]
  },
  {
   "cell_type": "code",
   "execution_count": 22,
   "metadata": {},
   "outputs": [
    {
     "data": {
      "text/plain": [
       "{1, 2}"
      ]
     },
     "execution_count": 22,
     "metadata": {},
     "output_type": "execute_result"
    }
   ],
   "source": [
    "diff=set1-set2\n",
    "diff"
   ]
  },
  {
   "cell_type": "code",
   "execution_count": 36,
   "metadata": {},
   "outputs": [],
   "source": [
    "list=[1,7,-10,34,2,-8]\n",
    "# sum = 0\n",
    "# for x in list:\n",
    "# sum = sum \n",
    "# print(sum)\n",
    "    "
   ]
  },
  {
   "cell_type": "code",
   "execution_count": 37,
   "metadata": {},
   "outputs": [
    {
     "data": {
      "text/plain": [
       "52"
      ]
     },
     "execution_count": 37,
     "metadata": {},
     "output_type": "execute_result"
    }
   ],
   "source": [
    "list=[1,7,-10,34,2,-8]\n",
    "sum"
   ]
  },
  {
   "cell_type": "code",
   "execution_count": 38,
   "metadata": {},
   "outputs": [
    {
     "name": "stdout",
     "output_type": "stream",
     "text": [
      "list is not empty\n"
     ]
    }
   ],
   "source": [
    "# checking a list is empty\n",
    "list=[1,7,-10,34,2,-8]\n",
    "if not list:\n",
    "    print(\"list is empyt\")\n",
    "else:print(\"list is not empty\")"
   ]
  },
  {
   "cell_type": "code",
   "execution_count": 39,
   "metadata": {},
   "outputs": [
    {
     "data": {
      "text/plain": [
       "(1, 7, -10, 34, 2, -8)"
      ]
     },
     "execution_count": 39,
     "metadata": {},
     "output_type": "execute_result"
    }
   ],
   "source": [
    "# converting into tuple\n",
    "list=[1,7,-10,34,2,-8]\n",
    "newdata=tuple(list)\n",
    "newdata"
   ]
  },
  {
   "cell_type": "code",
   "execution_count": 55,
   "metadata": {},
   "outputs": [
    {
     "name": "stdout",
     "output_type": "stream",
     "text": [
      "34 8\n"
     ]
    }
   ],
   "source": [
    "# acessing 4 and last 4th element from tuple\n",
    "tupple=(1, 7, -10, 34, 2, -8,3,6,8,6,3,3,)\n",
    "n=tupple[3]\n",
    "m=tupple[-4]\n",
    "print(n,m)"
   ]
  },
  {
   "cell_type": "code",
   "execution_count": 61,
   "metadata": {},
   "outputs": [
    {
     "data": {
      "text/plain": [
       "{'name': 'ali', 'age': 23, 'city': 'saleem', 'gender': 'male'}"
      ]
     },
     "execution_count": 61,
     "metadata": {},
     "output_type": "execute_result"
    }
   ],
   "source": [
    "# concatenation \n",
    "dict11={'name':'ali','age':23}\n",
    "dict22={'city':'saleem','gender':'male'}\n",
    "combine=dict11.copy()\n",
    "combine.update(dict22)\n",
    "combine"
   ]
  },
  {
   "cell_type": "code",
   "execution_count": 62,
   "metadata": {},
   "outputs": [
    {
     "name": "stdout",
     "output_type": "stream",
     "text": [
      "ali\n",
      "23\n",
      "saleem\n",
      "male\n"
     ]
    }
   ],
   "source": [
    "for x in combine.values():\n",
    "    print(x)"
   ]
  },
  {
   "cell_type": "code",
   "execution_count": 63,
   "metadata": {},
   "outputs": [
    {
     "name": "stdout",
     "output_type": "stream",
     "text": [
      "25\n"
     ]
    }
   ],
   "source": [
    "sett={22,23,24,25}\n",
    "print(max(sett))"
   ]
  },
  {
   "cell_type": "code",
   "execution_count": 7,
   "metadata": {},
   "outputs": [
    {
     "data": {
      "text/plain": [
       "3.0"
      ]
     },
     "execution_count": 7,
     "metadata": {},
     "output_type": "execute_result"
    }
   ],
   "source": [
    "def avg():\n",
    "    a=int(input('Enter a Number'))\n",
    "    b=int(input('Enter a Number'))\n",
    "    c=int(input('Enter a Number'))\n",
    "    average = (a + b + c)/3\n",
    "    return average\n",
    "a = avg()\n",
    "a"
   ]
  },
  {
   "cell_type": "code",
   "execution_count": 15,
   "metadata": {},
   "outputs": [
    {
     "name": "stdout",
     "output_type": "stream",
     "text": [
      "Good day {'John'}\n",
      "How are you?\n"
     ]
    }
   ],
   "source": [
    "def goodday(name , ending):\n",
    "    print(f'Good day',{name})\n",
    "    print(ending)\n",
    "    # return goodday\n",
    "goodday('John', 'How are you?')"
   ]
  },
  {
   "cell_type": "code",
   "execution_count": 16,
   "metadata": {},
   "outputs": [
    {
     "name": "stdout",
     "output_type": "stream",
     "text": [
      "hello  kim !\n"
     ]
    }
   ],
   "source": [
    "def greet(name):\n",
    "    print('hello ',name,'!')\n",
    "greet('kim')"
   ]
  },
  {
   "cell_type": "code",
   "execution_count": 19,
   "metadata": {},
   "outputs": [
    {
     "name": "stdout",
     "output_type": "stream",
     "text": [
      "12\n"
     ]
    }
   ],
   "source": [
    "def add(a,b):\n",
    "    return a+b\n",
    "# result=add(3,5)\n",
    "a = int(input('enter a number: '))\n",
    "b = int(input('enter a number: '))\n",
    "result = a + b\n",
    "print(result)"
   ]
  },
  {
   "cell_type": "code",
   "execution_count": 6,
   "metadata": {},
   "outputs": [
    {
     "name": "stdout",
     "output_type": "stream",
     "text": [
      "15\n"
     ]
    }
   ],
   "source": [
    "def sumall(*args):\n",
    "    # return sum(args)\n",
    "    for sum in args:\n",
    "        sum = sum + args\n",
    "# print(sumall(1,2,3,4))\n",
    "# print(sumall(2,4,5,7,54))\n",
    "aa = int(input('enter a number: '))\n",
    "ab= int(input('enter a number: '))\n",
    "ac = int(input('enter a number: '))\n",
    "sumall= aa + ab + ac\n",
    "print(sumall)\n",
    "\n",
    "    "
   ]
  },
  {
   "cell_type": "code",
   "execution_count": 31,
   "metadata": {},
   "outputs": [
    {
     "name": "stdout",
     "output_type": "stream",
     "text": [
      "namee:omer\n",
      "agee:30\n",
      "cityy:newyork\n"
     ]
    }
   ],
   "source": [
    "def string(**kwargs):\n",
    "    for keys , values in kwargs.items():\n",
    "        print(f'{keys}:{values}')\n",
    "        # return kwargs\n",
    "string(namee='omer',agee=30,cityy='newyork')\n",
    "\n"
   ]
  },
  {
   "cell_type": "code",
   "execution_count": 34,
   "metadata": {},
   "outputs": [
    {
     "name": "stdout",
     "output_type": "stream",
     "text": [
      "ths ids the local variable:  20\n",
      "this is the global variable: 10\n",
      "ths ids the local variable:  20\n"
     ]
    }
   ],
   "source": [
    "x = 10\n",
    "def my_func():\n",
    "    x = 20 \n",
    "    print('ths ids the local variable: ',x)\n",
    "my_func()\n",
    "print('this is the global variable:',x)\n",
    "my_func()\n",
    "\n",
    "\n"
   ]
  },
  {
   "cell_type": "code",
   "execution_count": 5,
   "metadata": {},
   "outputs": [
    {
     "name": "stdout",
     "output_type": "stream",
     "text": [
      "inner  35\n",
      "this is the outer  30\n"
     ]
    }
   ],
   "source": [
    "z = 30\n",
    "def newfunc (z):\n",
    "    z = z+5\n",
    "    print('inner ', z)\n",
    "newfunc(z)\n",
    "print('this is the outer ',z)"
   ]
  },
  {
   "cell_type": "code",
   "execution_count": 3,
   "metadata": {},
   "outputs": [
    {
     "name": "stdout",
     "output_type": "stream",
     "text": [
      "37.77777777777778\n"
     ]
    }
   ],
   "source": [
    "def ftoc(f):\n",
    "    return 5*(f-32)/9\n",
    "f = 100\n",
    "print(ftoc(f))\n"
   ]
  },
  {
   "cell_type": "code",
   "execution_count": 1,
   "metadata": {},
   "outputs": [
    {
     "name": "stdout",
     "output_type": "stream",
     "text": [
      "13\n"
     ]
    }
   ],
   "source": [
    "def greatest(a,b,c):\n",
    "    if (a>b and a>c):\n",
    "        return a\n",
    "    elif (b>a and b>c):\n",
    "        return b\n",
    "    elif (c>a and c>a):\n",
    "        return c\n",
    "a=12\n",
    "b=13\n",
    "c=1\n",
    "print(greatest(a,b,c))\n",
    "\n"
   ]
  },
  {
   "cell_type": "code",
   "execution_count": 8,
   "metadata": {},
   "outputs": [
    {
     "name": "stdout",
     "output_type": "stream",
     "text": [
      "5050\n"
     ]
    }
   ],
   "source": [
    "def sum(n):\n",
    "    if(n==1):\n",
    "        return 1\n",
    "    return sum(n-1)+n\n",
    "n = 100\n",
    "print(sum(n))\n"
   ]
  },
  {
   "cell_type": "code",
   "execution_count": null,
   "metadata": {},
   "outputs": [],
   "source": []
  },
  {
   "cell_type": "code",
   "execution_count": 22,
   "metadata": {},
   "outputs": [
    {
     "name": "stdout",
     "output_type": "stream",
     "text": [
      "***\n",
      "**\n",
      "*\n",
      "None\n"
     ]
    }
   ],
   "source": [
    "def pattern(n):\n",
    "    if (n==0):\n",
    "        return \n",
    "        \n",
    "    print('*' * n)\n",
    "    pattern(n-1)\n",
    "print(pattern(3))"
   ]
  },
  {
   "cell_type": "code",
   "execution_count": 31,
   "metadata": {},
   "outputs": [
    {
     "name": "stdout",
     "output_type": "stream",
     "text": [
      "10X1=10\n",
      "10X2=20\n",
      "10X3=30\n",
      "10X4=40\n",
      "10X5=50\n",
      "10X6=60\n",
      "10X7=70\n",
      "10X8=80\n",
      "10X9=90\n",
      "10X10=100\n"
     ]
    }
   ],
   "source": [
    "def multiply(n):\n",
    "    for i in range(1,11):\n",
    "     \n",
    "        # if i>10:\n",
    "            # break\n",
    "    \n",
    "     print(f'{n}X{i}={n*i}')\n",
    "n = int(input('enter a number: '))\n",
    "multiply(n)"
   ]
  },
  {
   "cell_type": "code",
   "execution_count": 4,
   "metadata": {},
   "outputs": [
    {
     "name": "stdout",
     "output_type": "stream",
     "text": [
      "10\n"
     ]
    }
   ],
   "source": [
    "funcc = lambda hello : hello*2\n",
    "print(funcc(5))"
   ]
  },
  {
   "cell_type": "code",
   "execution_count": 9,
   "metadata": {},
   "outputs": [
    {
     "name": "stdout",
     "output_type": "stream",
     "text": [
      "(1, 4, 16, 25)\n"
     ]
    }
   ],
   "source": [
    "listt=[1,2,4,5]\n",
    "listt=tuple(listt)\n",
    "def now(x):\n",
    "    return x**2\n",
    "# x = int(input('enter a number: '))\n",
    "now1= tuple(map(now,listt))\n",
    "print(now1)\n"
   ]
  },
  {
   "cell_type": "code",
   "execution_count": 13,
   "metadata": {},
   "outputs": [
    {
     "name": "stdout",
     "output_type": "stream",
     "text": [
      "(1, 4, 16, 25)\n"
     ]
    }
   ],
   "source": [
    "listt=[1,2,4,5]\n",
    "listt=tuple(listt)\n",
    "square = lambda x : x**2\n",
    "my=tuple(map(square,listt))\n",
    "print(my)"
   ]
  },
  {
   "cell_type": "code",
   "execution_count": null,
   "metadata": {},
   "outputs": [],
   "source": [
    "listt \n",
    "list1 =[1,2,3,4,5,56]\n",
    "list2 =[1,2,3,3,4,5]\n",
    "addall=lambda x : (listt + list1 +list2)\n",
    "print(addall)"
   ]
  },
  {
   "cell_type": "code",
   "execution_count": 14,
   "metadata": {},
   "outputs": [
    {
     "name": "stdout",
     "output_type": "stream",
     "text": [
      "(2, 4)\n"
     ]
    }
   ],
   "source": [
    "listt=[1,2,4,5]\n",
    "listt=tuple(listt)\n",
    "square = lambda x : x%2==0\n",
    "my=tuple(filter(square,listt))\n",
    "print(my)"
   ]
  },
  {
   "cell_type": "code",
   "execution_count": null,
   "metadata": {},
   "outputs": [],
   "source": [
    "listt=[1,2,4,5]\n",
    "myy= listt.re"
   ]
  },
  {
   "cell_type": "code",
   "execution_count": 18,
   "metadata": {},
   "outputs": [
    {
     "name": "stdout",
     "output_type": "stream",
     "text": [
      "[5, 2, 4, 1]\n"
     ]
    }
   ],
   "source": [
    "def change(s):\n",
    "    if len (s)<2:\n",
    "        return s\n",
    "    \n",
    "    s[0],s[-1] = s[-1],s[0]\n",
    "    return s\n",
    "listt=[1,2,4,5]\n",
    "print(change(listt))  # Output: [5, 2, 4, 1\n"
   ]
  },
  {
   "cell_type": "code",
   "execution_count": 19,
   "metadata": {},
   "outputs": [
    {
     "ename": "SyntaxError",
     "evalue": "cannot assign to lambda (2184492625.py, line 1)",
     "output_type": "error",
     "traceback": [
      "\u001b[1;36m  Cell \u001b[1;32mIn[19], line 1\u001b[1;36m\u001b[0m\n\u001b[1;33m    change = lambda x : x[o],x[-1]= x[-1],x[0]\u001b[0m\n\u001b[1;37m             ^\u001b[0m\n\u001b[1;31mSyntaxError\u001b[0m\u001b[1;31m:\u001b[0m cannot assign to lambda\n"
     ]
    }
   ],
   "source": [
    "change = lambda x : x[o],x[-1]= x[-1],x[0]\n",
    "if x <2 :\n",
    "    return x\n",
    "listt=[1,2,4,5]\n",
    "print(change(listt))  # Output: [5, 2, 4, 1\n"
   ]
  },
  {
   "cell_type": "code",
   "execution_count": 23,
   "metadata": {},
   "outputs": [
    {
     "name": "stdout",
     "output_type": "stream",
     "text": [
      "<function <lambda> at 0x00000128A79DF1A0>\n"
     ]
    }
   ],
   "source": [
    "listt \n",
    "list1 =[1,2,3,4,5,56]\n",
    "list2 =[1,2,3,3,4,5]\n",
    "addall=lambda x : (listt + list1 +list2)\n",
    "print(addall)\n"
   ]
  },
  {
   "cell_type": "code",
   "execution_count": 25,
   "metadata": {},
   "outputs": [
    {
     "name": "stdout",
     "output_type": "stream",
     "text": [
      "this is the sum: [5, 2, 4, 1, 1, 2, 3, 4, 5, 56, 1, 2, 3, 3, 4, 5]\n"
     ]
    }
   ],
   "source": [
    "listt \n",
    "list1 =[1,2,3,4,5,56]\n",
    "list2 =[1,2,3,3,4,5]\n",
    "addal= lambda l1,l2,l3:l1+l2+l3\n",
    "many=addal(listt,list1,list2)\n",
    "print('this is the sum:',many)"
   ]
  },
  {
   "cell_type": "code",
   "execution_count": 4,
   "metadata": {},
   "outputs": [
    {
     "name": "stdout",
     "output_type": "stream",
     "text": [
      "this is the sum: [12, 15, 18]\n"
     ]
    }
   ],
   "source": [
    "# listt = (1,2,3,4,5)\n",
    "# list1 =(1,2,3,4,5,56)\n",
    "# list2 =(1,2,3,3,4,5)\n",
    "# addal= lambda l1,l2,l3:l1+l2+l3\n",
    "list1 = [1, 2, 3]\n",
    "list2 = [4, 5, 6]\n",
    "list3 = [7, 8, 9]\n",
    "many=list(map(lambda l1,l2,l3:l1+l2+l3,list3,list1,list2))\n",
    "print('this is the sum:',many)"
   ]
  },
  {
   "cell_type": "code",
   "execution_count": 5,
   "metadata": {},
   "outputs": [
    {
     "data": {
      "text/plain": [
       "[12, 15, 18]"
      ]
     },
     "execution_count": 5,
     "metadata": {},
     "output_type": "execute_result"
    }
   ],
   "source": [
    "list1 = [1, 2, 3]\n",
    "list2 = [4, 5, 6]\n",
    "list3 = [7, 8, 9]\n",
    "addlist=list(map(lambda x,y,z:x+y+z,list1,list2,list3))\n",
    "addlist"
   ]
  },
  {
   "cell_type": "code",
   "execution_count": 12,
   "metadata": {},
   "outputs": [
    {
     "data": {
      "text/plain": [
       "[1, 2, 8, 9]"
      ]
     },
     "execution_count": 12,
     "metadata": {},
     "output_type": "execute_result"
    }
   ],
   "source": [
    "list1 = [1, 2, 3, 5, 7, 8, 9, 10]\n",
    "list2 = [1, 2, 4, 8, 9]\n",
    "intsec=list(filter(lambda x:x in list2,list1))\n",
    "intsec"
   ]
  },
  {
   "cell_type": "code",
   "execution_count": 22,
   "metadata": {},
   "outputs": [
    {
     "data": {
      "text/plain": [
       "[3, 6, 12, 24, 27]"
      ]
     },
     "execution_count": 22,
     "metadata": {},
     "output_type": "execute_result"
    }
   ],
   "source": [
    "list2 = [1, 2, 4, 8, 9]\n",
    "def triple(x):\n",
    "    x =x*3\n",
    "    return x\n",
    "neww=list(map(triple,list2))\n",
    "neww"
   ]
  },
  {
   "cell_type": "code",
   "execution_count": 23,
   "metadata": {},
   "outputs": [
    {
     "name": "stdout",
     "output_type": "stream",
     "text": [
      "[3, 6, 12, 24, 27]\n"
     ]
    }
   ],
   "source": [
    "list2 = [1, 2, 4, 8, 9]\n",
    "triple=list(map(lambda x:x*3,list2))\n",
    "print(triple)"
   ]
  },
  {
   "cell_type": "code",
   "execution_count": 27,
   "metadata": {},
   "outputs": [
    {
     "name": "stdout",
     "output_type": "stream",
     "text": [
      "inner\n",
      "hello\n"
     ]
    }
   ],
   "source": [
    "x = 'hello'\n",
    "def funcc():\n",
    "    x = 'inner'\n",
    "    print(x)\n",
    "funcc()\n",
    "print(x)"
   ]
  },
  {
   "cell_type": "code",
   "execution_count": 28,
   "metadata": {},
   "outputs": [
    {
     "data": {
      "text/plain": [
       "20"
      ]
     },
     "execution_count": 28,
     "metadata": {},
     "output_type": "execute_result"
    }
   ],
   "source": [
    "def factorial(n):\n",
    "    if n == 0:\n",
    "        return 1\n",
    "    n = n*(n-1)\n",
    "    return n\n",
    "factorial(5)\n"
   ]
  },
  {
   "cell_type": "code",
   "execution_count": 30,
   "metadata": {},
   "outputs": [
    {
     "ename": "TypeError",
     "evalue": "<lambda>() missing 1 required positional argument: 'y'",
     "output_type": "error",
     "traceback": [
      "\u001b[1;31m---------------------------------------------------------------------------\u001b[0m",
      "\u001b[1;31mTypeError\u001b[0m                                 Traceback (most recent call last)",
      "Cell \u001b[1;32mIn[30], line 2\u001b[0m\n\u001b[0;32m      1\u001b[0m n \u001b[38;5;241m=\u001b[39m (\u001b[38;5;241m4\u001b[39m,\u001b[38;5;241m5\u001b[39m)\n\u001b[1;32m----> 2\u001b[0m \u001b[38;5;28mprint\u001b[39m\u001b[38;5;241m=\u001b[39m\u001b[38;5;28;43mtuple\u001b[39;49m\u001b[43m(\u001b[49m\u001b[38;5;28;43mmap\u001b[39;49m\u001b[43m(\u001b[49m\u001b[38;5;28;43;01mlambda\u001b[39;49;00m\u001b[43m \u001b[49m\u001b[43mx\u001b[49m\u001b[43m,\u001b[49m\u001b[43my\u001b[49m\u001b[43m:\u001b[49m\u001b[43mx\u001b[49m\u001b[38;5;241;43m*\u001b[39;49m\u001b[43my\u001b[49m\u001b[43m,\u001b[49m\u001b[43mn\u001b[49m\u001b[43m)\u001b[49m\u001b[43m)\u001b[49m\n\u001b[0;32m      3\u001b[0m \u001b[38;5;28mprint\u001b[39m(\u001b[38;5;28mprint\u001b[39m)\n",
      "\u001b[1;31mTypeError\u001b[0m: <lambda>() missing 1 required positional argument: 'y'"
     ]
    }
   ],
   "source": [
    "# n = (4,5)\n",
    "# print=tuple(map(lambda x,y:x*y,n))\n",
    "# print(print)"
   ]
  },
  {
   "cell_type": "code",
   "execution_count": 31,
   "metadata": {},
   "outputs": [
    {
     "name": "stdout",
     "output_type": "stream",
     "text": [
      "20\n"
     ]
    }
   ],
   "source": [
    "double = lambda x , y: x*y\n",
    "print(double(4,5))"
   ]
  },
  {
   "cell_type": "code",
   "execution_count": 33,
   "metadata": {},
   "outputs": [
    {
     "name": "stdout",
     "output_type": "stream",
     "text": [
      "[6, 5, 4, 3, 2, 1]\n"
     ]
    }
   ],
   "source": [
    "abc=[1,2,3,4,5]\n",
    "abc\n",
    "abc.append(6)\n",
    "abc.sort()\n",
    "abc.reverse()\n",
    "print(abc)"
   ]
  },
  {
   "cell_type": "code",
   "execution_count": 153,
   "metadata": {},
   "outputs": [
    {
     "name": "stdout",
     "output_type": "stream",
     "text": [
      "[1, 2, 3, 4, 5, [9]]\n"
     ]
    }
   ],
   "source": [
    "abc=[1,2,3,4,5]\n",
    "ads=[9]\n",
    "abc.append(ads)\n",
    "print(abc)"
   ]
  },
  {
   "cell_type": "code",
   "execution_count": 38,
   "metadata": {},
   "outputs": [
    {
     "name": "stdout",
     "output_type": "stream",
     "text": [
      "(1, 2, 3, 4)\n",
      "3\n",
      "(1, 2, 3, 4, 1, 5)\n",
      "6\n"
     ]
    }
   ],
   "source": [
    "abt=(1,2,3,4)\n",
    "abz=(1,5)\n",
    "print(abt)\n",
    "print(abt[2])\n",
    "abn=abt+abz\n",
    "print(abn)\n",
    "print(len(abn))\n",
    "\n"
   ]
  },
  {
   "cell_type": "code",
   "execution_count": 44,
   "metadata": {},
   "outputs": [
    {
     "name": "stdout",
     "output_type": "stream",
     "text": [
      "{'name': 'Affan', 'roll_num': '1', 'marks': 85}\n",
      "{'name': 'Affan', 'roll_num': '1', 'marks': 90}\n",
      "{'name': 'Affan', 'roll_num': '1', 'marks': 90, 'grade': 'A'}\n"
     ]
    }
   ],
   "source": [
    "ndict={\n",
    "      'name':'Affan',\n",
    "      'roll_num':'1',\n",
    "      'marks':85\n",
    "\n",
    "}\n",
    "print(ndict)\n",
    "ndict['marks']=90\n",
    "print(ndict)\n",
    "ndict['grade']='A'\n",
    "print(ndict)"
   ]
  },
  {
   "cell_type": "code",
   "execution_count": null,
   "metadata": {},
   "outputs": [],
   "source": [
    "lis=[1,2,3]\n",
    "liss=[2,3,4]\n"
   ]
  },
  {
   "cell_type": "code",
   "execution_count": 52,
   "metadata": {},
   "outputs": [
    {
     "name": "stdout",
     "output_type": "stream",
     "text": [
      "list1: [2, 4, 6, 8]\n",
      "list2: [1, 2, 4, 6, 8]\n",
      "[2, 4, 6, 8]\n"
     ]
    }
   ],
   "source": [
    "input_strr=input('enter a values or numbers seprated by spaces: ')\n",
    "input_list=list(map(int,input_strr.split()))\n",
    "input_strr1=input('enter a values or numbers seprated by spaces: ')\n",
    "input_list1=list(map(int,input_strr1.split()))\n",
    "print('list1:',input_list)\n",
    "print('list2:',input_list1)\n",
    "newliss=list(filter(lambda x : x in input_list1,input_list))\n",
    "print(newliss)\n"
   ]
  },
  {
   "cell_type": "code",
   "execution_count": 54,
   "metadata": {},
   "outputs": [
    {
     "name": "stdout",
     "output_type": "stream",
     "text": [
      "list1: [2, 4, 6, 7, 8]\n",
      "list2: [1, 2, 3, 4]\n",
      "[2, 4, 6, 8]\n"
     ]
    }
   ],
   "source": [
    "input_strr=input('enter a values or numbers seprated by spaces: ')\n",
    "input_list=list(map(int,input_strr.split()))\n",
    "input_strr1=input('enter a values or numbers seprated by spaces: ')\n",
    "input_list1=list(map(int,input_strr1.split()))\n",
    "print('list1:',input_list)\n",
    "print('list2:',input_list1)\n",
    "newliss=list(filter(lambda x :  x%2==0,input_list))\n",
    "print(newliss)"
   ]
  },
  {
   "cell_type": "code",
   "execution_count": 56,
   "metadata": {},
   "outputs": [
    {
     "name": "stdout",
     "output_type": "stream",
     "text": [
      "[2, 4, 5, 6, 7]\n"
     ]
    }
   ],
   "source": [
    "enter=input('enter numbers: ')\n",
    "ennter=list(map(int,enter.split()))\n",
    "print(ennter)"
   ]
  },
  {
   "cell_type": "code",
   "execution_count": 63,
   "metadata": {},
   "outputs": [
    {
     "data": {
      "text/plain": [
       "['Charlie', 'Alice', 'David', 'Bob']"
      ]
     },
     "execution_count": 63,
     "metadata": {},
     "output_type": "execute_result"
    }
   ],
   "source": [
    "students = [(\"Alice\", 88), (\"Bob\", 75), (\"Charlie\", 95), (\"David\", 85)]\n",
    "students.sort(key=lambda student:student[1],reverse=True)\n",
    "nn=[student[0] for student in students]\n",
    "students\n",
    "nn"
   ]
  },
  {
   "cell_type": "code",
   "execution_count": 67,
   "metadata": {},
   "outputs": [
    {
     "ename": "TypeError",
     "evalue": "'keys' is an invalid keyword argument for sort()",
     "output_type": "error",
     "traceback": [
      "\u001b[1;31m---------------------------------------------------------------------------\u001b[0m",
      "\u001b[1;31mTypeError\u001b[0m                                 Traceback (most recent call last)",
      "Cell \u001b[1;32mIn[67], line 3\u001b[0m\n\u001b[0;32m      1\u001b[0m instring\u001b[38;5;241m=\u001b[39m \u001b[38;5;28mstr\u001b[39m(\u001b[38;5;28minput\u001b[39m(\u001b[38;5;124m'\u001b[39m\u001b[38;5;124mEnter string sep by spaces: \u001b[39m\u001b[38;5;124m'\u001b[39m))\n\u001b[0;32m      2\u001b[0m nstring\u001b[38;5;241m=\u001b[39m\u001b[38;5;28mlist\u001b[39m(\u001b[38;5;28mmap\u001b[39m(\u001b[38;5;28mstr\u001b[39m,instring\u001b[38;5;241m.\u001b[39msplit()))\n\u001b[1;32m----> 3\u001b[0m \u001b[43mnstring\u001b[49m\u001b[38;5;241;43m.\u001b[39;49m\u001b[43msort\u001b[49m\u001b[43m(\u001b[49m\u001b[43mkeys\u001b[49m\u001b[43m \u001b[49m\u001b[38;5;241;43m=\u001b[39;49m\u001b[43m \u001b[49m\u001b[38;5;28;43;01mlambda\u001b[39;49;00m\u001b[43m \u001b[49m\u001b[43mcap\u001b[49m\u001b[43m \u001b[49m\u001b[43m:\u001b[49m\u001b[43mnstring\u001b[49m\u001b[43m[\u001b[49m\u001b[38;5;241;43m1\u001b[39;49m\u001b[43m]\u001b[49m\u001b[43m,\u001b[49m\u001b[43m      \u001b[49m\u001b[43mreverse\u001b[49m\u001b[38;5;241;43m=\u001b[39;49m\u001b[38;5;28;43;01mFalse\u001b[39;49;00m\u001b[43m)\u001b[49m\n\u001b[0;32m      4\u001b[0m \u001b[38;5;28mprint\u001b[39m(nstring)\n",
      "\u001b[1;31mTypeError\u001b[0m: 'keys' is an invalid keyword argument for sort()"
     ]
    }
   ],
   "source": [
    "instring= str(input('Enter string sep by spaces: '))\n",
    "nstring=list(map(str,instring.split()))\n",
    "nstring.sort(keys = lambda cap :nstring[1],      reverse=False)\n",
    "print(nstring)"
   ]
  },
  {
   "cell_type": "code",
   "execution_count": 73,
   "metadata": {},
   "outputs": [
    {
     "name": "stdout",
     "output_type": "stream",
     "text": [
      "['hello ', 'now', 'ali', 'khannnnnnn']\n"
     ]
    },
    {
     "data": {
      "text/plain": [
       "['now', 'ali', 'hello ', 'khannnnnnn']"
      ]
     },
     "execution_count": 73,
     "metadata": {},
     "output_type": "execute_result"
    }
   ],
   "source": [
    "def sort_string(strings):\n",
    "    sortstr= sorted(strings,key=len,reverse=False)\n",
    "    return sortstr\n",
    "strings =['hello ','now','ali','khannnnnnn']\n",
    "print(strings)\n",
    "sort_string(strings)\n"
   ]
  },
  {
   "cell_type": "code",
   "execution_count": 77,
   "metadata": {},
   "outputs": [
    {
     "name": "stdout",
     "output_type": "stream",
     "text": [
      "[1, 2, 3, 4, 5, 6, 7, 8, 9, 10]\n"
     ]
    }
   ],
   "source": [
    "def unique_elements(input_list):\n",
    "    seen = set()\n",
    "    newlist=[]\n",
    "    for x in input_list:\n",
    "        if x not in seen:\n",
    "            newlist.append(x)\n",
    "            seen.add(x)\n",
    "    return newlist\n",
    "input_list=[1,2,3,4,5,6,4,5,7,8,9,10]\n",
    "result=unique_elements(input_list)\n",
    "print(result)\n"
   ]
  },
  {
   "cell_type": "code",
   "execution_count": 81,
   "metadata": {},
   "outputs": [
    {
     "name": "stdout",
     "output_type": "stream",
     "text": [
      "printing\n",
      "0\n",
      "printing\n",
      "1\n",
      "printing\n",
      "printing\n",
      "3\n"
     ]
    }
   ],
   "source": [
    "for i in range(4):\n",
    "    \n",
    "    print('printing')\n",
    "    if i ==2:\n",
    "        continue\n",
    "    \n",
    "    print(i)\n",
    "    \n",
    "     "
   ]
  },
  {
   "cell_type": "code",
   "execution_count": 83,
   "metadata": {},
   "outputs": [
    {
     "name": "stdout",
     "output_type": "stream",
     "text": [
      "0\n",
      "1\n",
      "1\n",
      "2\n",
      "3\n",
      "5\n",
      "8\n",
      "13\n",
      "21\n",
      "34\n",
      "\n"
     ]
    }
   ],
   "source": [
    "a,b=0,1\n",
    "while a<=50:\n",
    "    print(a)\n",
    "    a, b =b , a+b\n",
    "print()"
   ]
  },
  {
   "cell_type": "code",
   "execution_count": 85,
   "metadata": {},
   "outputs": [
    {
     "name": "stdout",
     "output_type": "stream",
     "text": [
      "hlo\n"
     ]
    }
   ],
   "source": [
    "inputnn= input('entera string: ')\n",
    "res_string= ''\n",
    "for i in range(len(inputnn)):\n",
    "    if i % 2 == 0:\n",
    "        res_string += inputnn[i]\n",
    "print(res_string)"
   ]
  },
  {
   "cell_type": "code",
   "execution_count": 87,
   "metadata": {},
   "outputs": [
    {
     "name": "stdout",
     "output_type": "stream",
     "text": [
      "number is ngative\n"
     ]
    }
   ],
   "source": [
    "n = -10\n",
    "if n>0:\n",
    "    print('number is positive')\n",
    "elif n<0:\n",
    "    print('number is ngative')\n",
    "else:print('number is zero')"
   ]
  },
  {
   "cell_type": "code",
   "execution_count": 94,
   "metadata": {},
   "outputs": [
    {
     "ename": "IndentationError",
     "evalue": "unexpected indent (439852574.py, line 7)",
     "output_type": "error",
     "traceback": [
      "\u001b[1;36m  Cell \u001b[1;32mIn[94], line 7\u001b[1;36m\u001b[0m\n\u001b[1;33m    i = i+ 1\u001b[0m\n\u001b[1;37m    ^\u001b[0m\n\u001b[1;31mIndentationError\u001b[0m\u001b[1;31m:\u001b[0m unexpected indent\n"
     ]
    }
   ],
   "source": [
    "for num in range(1,20):\n",
    "    \n",
    "     while i in range(1,21):\n",
    "       if i%2!=0:\n",
    "        \n",
    "             print(i)\n",
    "               i = i+ 1\n"
   ]
  },
  {
   "cell_type": "code",
   "execution_count": 101,
   "metadata": {},
   "outputs": [
    {
     "name": "stdout",
     "output_type": "stream",
     "text": [
      "2 \n"
     ]
    }
   ],
   "source": [
    "for num in range(2,20):\n",
    "    primee= True\n",
    "    for i in range(2,num):\n",
    "        primee=False\n",
    "        break\n",
    "    if primee:\n",
    "        print(num,end=' ')\n",
    "print()"
   ]
  },
  {
   "cell_type": "code",
   "execution_count": 105,
   "metadata": {},
   "outputs": [
    {
     "name": "stdout",
     "output_type": "stream",
     "text": [
      "2\n",
      "3\n",
      "5\n",
      "7\n",
      "11\n",
      "13\n",
      "17\n",
      "19\n"
     ]
    }
   ],
   "source": [
    "for num in range(2,20):\n",
    "    primenum=True\n",
    "    for i in range(2,num):\n",
    "        if num % i ==0:\n",
    "            primenum=False\n",
    "            break\n",
    "    if primenum:\n",
    "        print(num)\n"
   ]
  },
  {
   "cell_type": "code",
   "execution_count": 152,
   "metadata": {},
   "outputs": [
    {
     "name": "stdout",
     "output_type": "stream",
     "text": [
      "2 is a prime number\n",
      "3 is a prime number\n",
      "5 is a prime number\n",
      "7 is a prime number\n",
      "11 is a prime number\n",
      "13 is a prime number\n",
      "17 is a prime number\n",
      "19 is a prime number\n"
     ]
    }
   ],
   "source": [
    "# num = 1,2,3,4,5,6,7,8,9,10\n",
    "\n",
    "for num in range(2,20):\n",
    "    newprme=True\n",
    "    for i in range(2,num):\n",
    "        if num % i == 0:\n",
    "            newprme=False\n",
    "            \n",
    "    if newprme:\n",
    "        print(num,\"is a prime number\")\n",
    "      "
   ]
  },
  {
   "cell_type": "code",
   "execution_count": 112,
   "metadata": {},
   "outputs": [
    {
     "name": "stdout",
     "output_type": "stream",
     "text": [
      "1\n",
      "2\n",
      "3\n",
      "4\n",
      "5\n",
      "6\n",
      "7\n",
      "8\n",
      "9\n",
      "10\n",
      "11\n",
      "12\n",
      "13\n"
     ]
    }
   ],
   "source": [
    "l=[-1,1,2,3,4,5,6,7,8,9,10,11,12,13]\n",
    "for num in l:\n",
    "    if num < 0:\n",
    "        continue\n",
    "    print(num)\n",
    "    \n",
    "    \n",
    "\n"
   ]
  },
  {
   "cell_type": "code",
   "execution_count": 135,
   "metadata": {},
   "outputs": [
    {
     "name": "stdout",
     "output_type": "stream",
     "text": [
      "1\n",
      "2\n",
      "4\n",
      "7\n",
      "8\n",
      "11\n",
      "13\n",
      "14\n",
      "16\n",
      "17\n",
      "19\n",
      "22\n",
      "23\n",
      "26\n",
      "28\n",
      "29\n",
      "31\n",
      "32\n",
      "34\n",
      "37\n",
      "38\n",
      "41\n",
      "43\n",
      "44\n",
      "46\n",
      "47\n",
      "49\n",
      "52\n",
      "53\n",
      "56\n",
      "58\n",
      "59\n",
      "61\n",
      "62\n",
      "64\n",
      "67\n",
      "68\n",
      "71\n",
      "73\n",
      "74\n",
      "76\n",
      "77\n",
      "79\n",
      "82\n",
      "83\n",
      "86\n",
      "88\n",
      "89\n",
      "91\n",
      "92\n",
      "94\n",
      "97\n",
      "98\n"
     ]
    }
   ],
   "source": [
    "for i in range(1,100):\n",
    "    if i%3==0 or i%5==0:\n",
    "        continue\n",
    "    else:print(i)\n",
    "        \n",
    "        "
   ]
  },
  {
   "cell_type": "code",
   "execution_count": 141,
   "metadata": {},
   "outputs": [
    {
     "name": "stdout",
     "output_type": "stream",
     "text": [
      "raddar\n",
      "The string is a palindrom\n"
     ]
    }
   ],
   "source": [
    "'''write a function that checks if a given number is a paladrom'''\n",
    "input_string=input('Enter a string: ')\n",
    "print(input_string)\n",
    "\n",
    "if input_string[0:] == input_string[::-1]:\n",
    "        print('The string is a palindrom')\n",
    "else:('string is not palindrom')"
   ]
  },
  {
   "cell_type": "code",
   "execution_count": 146,
   "metadata": {},
   "outputs": [
    {
     "name": "stdout",
     "output_type": "stream",
     "text": [
      "HELLO o, WORLD\n"
     ]
    }
   ],
   "source": [
    "newvar='hello O, world'\n",
    "newchar= newvar.swapcase()\n",
    "print(newchar)"
   ]
  }
 ],
 "metadata": {
  "kernelspec": {
   "display_name": "Python 3",
   "language": "python",
   "name": "python3"
  },
  "language_info": {
   "codemirror_mode": {
    "name": "ipython",
    "version": 3
   },
   "file_extension": ".py",
   "mimetype": "text/x-python",
   "name": "python",
   "nbconvert_exporter": "python",
   "pygments_lexer": "ipython3",
   "version": "3.12.1"
  }
 },
 "nbformat": 4,
 "nbformat_minor": 2
}

{
 "cells": [
  {
   "cell_type": "code",
   "execution_count": 30,
   "metadata": {},
   "outputs": [
    {
     "name": "stdout",
     "output_type": "stream",
     "text": [
      "6\n",
      "even in descending order is : [12, 10, 8, 6, 4, 2]\n"
     ]
    }
   ],
   "source": [
    "# question no 1\n",
    "n= [10, 7, 3, 4, 5, 9, 2, 11, 13, 6, 8, 12]\n",
    "even_numbers = []\n",
    "for number in n:\n",
    "    if number % 2 == 0:\n",
    "        even_numbers.append(number)\n",
    "even_numbers.sort(reverse=True)\n",
    "total_even=(len(even_numbers))\n",
    "print(total_even)\n",
    "\n",
    "print(\"even in descending order is :\", even_numbers)"
   ]
  },
  {
   "cell_type": "code",
   "execution_count": 31,
   "metadata": {},
   "outputs": [
    {
     "name": "stdout",
     "output_type": "stream",
     "text": [
      "(100, 16, 4, 36, 64, 144)\n"
     ]
    }
   ],
   "source": [
    "#  question no 2\n",
    "n1 = [10, 7, 3, 4, 5, 9, 2, 11, 13, 6, 8, 12]\n",
    "squ_evens = []\n",
    "for number in n1:\n",
    "    if number % 2 == 0:\n",
    "        squ_evens.append(number ** 2)\n",
    "result = tuple(squ_evens)\n",
    "print(result)\n"
   ]
  },
  {
   "cell_type": "code",
   "execution_count": 25,
   "metadata": {},
   "outputs": [
    {
     "name": "stdout",
     "output_type": "stream",
     "text": [
      "this is dict 1 {'name': 'Ali', 'age': 18, 'city': 'Bahawalpur', 'intitute': 'Corvit Centre', 'province': 'punjab'}\n",
      "this is dict 2 {'name': 'Affan', 'age': 19, 'city': 'Bahawalpur', 'intitute': 'Corvit Centre'}\n",
      "the merged dict {'name': 'Affan', 'age': 19, 'city': 'Bahawalpur', 'intitute': 'Corvit Centre', 'province': 'punjab'}\n"
     ]
    }
   ],
   "source": [
    "# question no 3\n",
    "dict_1={\n",
    "         'name':'Ali',\n",
    "         'age':18,\n",
    "         'city':'Bahawalpur',\n",
    "         'intitute':'Corvit Centre',\n",
    "         'province':'punjab'            #extra value it is not in dict_2\n",
    "        }\n",
    "dict_2={\n",
    "         'name':'Affan',\n",
    "         'age':19,\n",
    "         'city':'Bahawalpur',\n",
    "         'intitute':'Corvit Centre'\n",
    "        }\n",
    "print('this is dict 1',dict_1)\n",
    "print('this is dict 2', dict_2)\n",
    "mynewdict=dict_1.copy()\n",
    "mynewdict.update(dict_2)\n",
    "print('the merged dict',mynewdict)\n",
    "\n"
   ]
  },
  {
   "cell_type": "code",
   "execution_count": 21,
   "metadata": {},
   "outputs": [
    {
     "name": "stdout",
     "output_type": "stream",
     "text": [
      "1\n",
      "2\n",
      "4\n",
      "7\n",
      "8\n",
      "11\n",
      "13\n",
      "14\n",
      "16\n",
      "17\n",
      "19\n",
      "22\n",
      "23\n",
      "26\n",
      "28\n",
      "29\n",
      "31\n",
      "32\n",
      "34\n",
      "37\n",
      "38\n",
      "41\n",
      "43\n",
      "44\n",
      "46\n",
      "47\n",
      "49\n",
      "52\n",
      "53\n",
      "56\n",
      "58\n",
      "59\n",
      "61\n",
      "62\n",
      "64\n",
      "67\n",
      "68\n",
      "71\n",
      "73\n",
      "74\n",
      "76\n",
      "77\n",
      "79\n",
      "82\n",
      "83\n",
      "86\n",
      "88\n",
      "89\n",
      "91\n",
      "92\n",
      "94\n",
      "97\n",
      "98\n"
     ]
    }
   ],
   "source": [
    "#  question no 4\n",
    "for i in range(1,100):\n",
    "    if i%3==0 or i%5==0:\n",
    "        continue\n",
    "    else:print(i) "
   ]
  },
  {
   "cell_type": "code",
   "execution_count": 3,
   "metadata": {},
   "outputs": [
    {
     "name": "stdout",
     "output_type": "stream",
     "text": [
      "{'mean': np.float64(3.5), 'median': np.float64(3.5), 'mode': 4, 'variance': np.float64(1.25)}\n"
     ]
    }
   ],
   "source": [
    "#  question no 5\n",
    "''' write a program that take input from users returns a dict conataing\n",
    "mean, median ,mode'''\n",
    "import numpy as np\n",
    "# a=int(input('enter mean'))\n",
    "# b=int(input('enter median'))\n",
    "# c=int(input('enter mode'))\n",
    "# d=int(input('enter variance'))\n",
    "inputsrr=input('enter integers seprated by coomas: ')\n",
    "newsttrr=list(map(int,inputsrr.split()))\n",
    "a=np.mean(newsttrr)\n",
    "b=np.median(newsttrr)\n",
    "c=newsttrr[2]\n",
    "d=np.var(newsttrr)\n",
    "dictnew={\n",
    "       'mean':a,\n",
    "       'median':b,\n",
    "       'mode':c,\n",
    "       'variance':d\n",
    "    }\n",
    "print(dictnew)\n",
    "\n",
    "\n",
    "\n",
    "\n",
    "\n"
   ]
  },
  {
   "cell_type": "code",
   "execution_count": null,
   "metadata": {},
   "outputs": [],
   "source": []
  },
  {
   "cell_type": "code",
   "execution_count": null,
   "metadata": {},
   "outputs": [],
   "source": []
  },
  {
   "cell_type": "code",
   "execution_count": null,
   "metadata": {},
   "outputs": [],
   "source": []
  },
  {
   "cell_type": "code",
   "execution_count": null,
   "metadata": {},
   "outputs": [],
   "source": []
  }
 ],
 "metadata": {
  "kernelspec": {
   "display_name": "Python 3",
   "language": "python",
   "name": "python3"
  },
  "language_info": {
   "codemirror_mode": {
    "name": "ipython",
    "version": 3
   },
   "file_extension": ".py",
   "mimetype": "text/x-python",
   "name": "python",
   "nbconvert_exporter": "python",
   "pygments_lexer": "ipython3",
   "version": "3.12.1"
  }
 },
 "nbformat": 4,
 "nbformat_minor": 2
}

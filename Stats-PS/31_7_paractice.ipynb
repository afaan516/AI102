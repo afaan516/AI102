{
 "cells": [
  {
   "cell_type": "markdown",
   "metadata": {},
   "source": [
    "# Range\n"
   ]
  },
  {
   "cell_type": "code",
   "execution_count": 1,
   "metadata": {},
   "outputs": [
    {
     "name": "stdout",
     "output_type": "stream",
     "text": [
      "70\n"
     ]
    }
   ],
   "source": [
    "class1=[25,30,33,38,40,45,50,52,58,60,65,67,70,95]\n",
    "range=max(class1)-min(class1)\n",
    "print(range)"
   ]
  },
  {
   "cell_type": "code",
   "execution_count": 1,
   "metadata": {},
   "outputs": [],
   "source": [
    "# paractice_at_home\n",
    "class1=[25,30,33,38,40,45,50,52,58,60,65,67,70,95]\n",
    "range=max(class1)-min(class1)"
   ]
  },
  {
   "cell_type": "code",
   "execution_count": null,
   "metadata": {},
   "outputs": [],
   "source": []
  },
  {
   "cell_type": "markdown",
   "metadata": {},
   "source": [
    "# Variance"
   ]
  },
  {
   "cell_type": "code",
   "execution_count": null,
   "metadata": {},
   "outputs": [],
   "source": [
    "''' \n",
    "Calculate the mean of the data.(sum of all/lenght of all)\n",
    "Find each data point's difference from the mean value.\n",
    "Square each of these values.\n",
    "Add up all of the squared values.\n",
    "Divide this sum of squares by n - 1 (for a sample) or N (for the population).\n",
    "'''"
   ]
  },
  {
   "cell_type": "code",
   "execution_count": 2,
   "metadata": {},
   "outputs": [
    {
     "name": "stdout",
     "output_type": "stream",
     "text": [
      "331.0\n"
     ]
    }
   ],
   "source": [
    "# paractice_at_home\n",
    "class1=[25,30,33,38,40,45,50,52,58,60,65,67,70,95]\n",
    "mean= sum(class1)/len(class1)\n",
    "sqr_diff=[(x-mean)**2 for x in class1]\n",
    "var=sum(sqr_diff)/len(class1)\n",
    "print(var)"
   ]
  },
  {
   "cell_type": "markdown",
   "metadata": {},
   "source": [
    "# Variance"
   ]
  },
  {
   "cell_type": "code",
   "execution_count": 33,
   "metadata": {},
   "outputs": [
    {
     "name": "stdout",
     "output_type": "stream",
     "text": [
      "331.0\n"
     ]
    }
   ],
   "source": [
    "# S^2 = \\frac{\\sum (x_i - \\bar{x})^2}{n - 1}\n",
    "\n",
    "class1=[25,30,33,38,40,45,50,52,58,60,65,67,70,95]\n",
    "mean = sum(class1)/len(class1)\n",
    "squ_diff = [(x - mean)**2 for x in class1]\n",
    "varince= sum(squ_diff)/len(class1)\n",
    "print(varince)"
   ]
  },
  {
   "cell_type": "markdown",
   "metadata": {},
   "source": [
    "# Standard Daviation"
   ]
  },
  {
   "cell_type": "code",
   "execution_count": 34,
   "metadata": {},
   "outputs": [
    {
     "name": "stdout",
     "output_type": "stream",
     "text": [
      "356.46153846153845\n"
     ]
    }
   ],
   "source": [
    "class1=[25,30,33,38,40,45,50,52,58,60,65,67,70,95]\n",
    "mean = sum(class1)/len(class1)\n",
    "squ_diff = [(x - mean)**2 for x in class1]\n",
    "std_var= sum(squ_diff)/(len(class1)-1)\n",
    "print(std_var)"
   ]
  },
  {
   "cell_type": "code",
   "execution_count": 6,
   "metadata": {},
   "outputs": [
    {
     "name": "stdout",
     "output_type": "stream",
     "text": [
      "18.193405398660254\n"
     ]
    }
   ],
   "source": [
    "# parctice_at_home\n",
    "# paractice_at_home\n",
    "class1=[25,30,33,38,40,45,50,52,58,60,65,67,70,95]\n",
    "mean= sum(class1)/len(class1)\n",
    "sqr_diff=[(x-mean)**2 for x in class1]\n",
    "var=sum(sqr_diff)/len(class1)\n",
    "str_div=var**0.5\n",
    "print(str_div)"
   ]
  },
  {
   "cell_type": "markdown",
   "metadata": {},
   "source": [
    "# CV"
   ]
  },
  {
   "cell_type": "code",
   "execution_count": 4,
   "metadata": {},
   "outputs": [
    {
     "name": "stdout",
     "output_type": "stream",
     "text": [
      "34.98731807434664\n"
     ]
    }
   ],
   "source": [
    "# paractice_at_home\n",
    "class1=[25,30,33,38,40,45,50,52,58,60,65,67,70,95]\n",
    "mean= sum(class1)/len(class1)\n",
    "sqr_diff=[(x-mean)**2 for x in class1]\n",
    "var=sum(sqr_diff)/len(class1)\n",
    "str_div=var**0.5\n",
    "cv=(str_div/mean)*100\n",
    "print(cv)\n"
   ]
  },
  {
   "cell_type": "code",
   "execution_count": 35,
   "metadata": {},
   "outputs": [
    {
     "name": "stdout",
     "output_type": "stream",
     "text": [
      "685.5029585798817\n"
     ]
    }
   ],
   "source": [
    "class1=[25,30,33,38,40,45,50,52,58,60,65,67,70,95]\n",
    "mean = sum(class1)/len(class1)\n",
    "squ_diff = [(x - mean)**2 for x in class1]\n",
    "std_var= sum(squ_diff)/(len(class1)-1)\n",
    "co_eff= (std_var/mean)*100\n",
    "print(co_eff)"
   ]
  },
  {
   "cell_type": "markdown",
   "metadata": {},
   "source": [
    "# Percentile"
   ]
  },
  {
   "cell_type": "code",
   "execution_count": 37,
   "metadata": {},
   "outputs": [
    {
     "name": "stdout",
     "output_type": "stream",
     "text": [
      "64.28571428571429\n"
     ]
    }
   ],
   "source": [
    "class1=[25,30,33,38,40,45,50,52,58,60,65,67,70,95]\n",
    "k = 9  #number of value before 60\n",
    "n = 14   #total values\n",
    "#  now \n",
    "percentile = (k/n * 100)\n",
    "print (percentile)\n",
    "\n"
   ]
  },
  {
   "cell_type": "code",
   "execution_count": 5,
   "metadata": {},
   "outputs": [
    {
     "name": "stdout",
     "output_type": "stream",
     "text": [
      "[31.799999999999997]\n"
     ]
    }
   ],
   "source": [
    "class1=[25,30,33,38,40,45,50,52,58,60,65,67,70,95]\n",
    "k=60\n",
    "per= [(k/100)*(mean + 1)]\n",
    "print(per)"
   ]
  },
  {
   "cell_type": "markdown",
   "metadata": {},
   "source": [
    "# Z Score"
   ]
  },
  {
   "cell_type": "code",
   "execution_count": 12,
   "metadata": {},
   "outputs": [
    {
     "name": "stdout",
     "output_type": "stream",
     "text": [
      "[0.1691842900302115]\n"
     ]
    }
   ],
   "source": [
    "class1=[25,30,33,38,40,45,50,52,58,60,65,67,70,95]\n",
    "mean= sum(class1)/len(class1)                   #this is the medain\n",
    "str_diff= [(x - mean)**2 for x in class1]           #applying frst part of formla of std_div\n",
    "varrr= sum(str_diff)/len(class1)               #division by total valuse of the set\n",
    "str_divv=varrr*0.5\n",
    "x = 80\n",
    "zscore=[(x - mean) / str_divv]               #now finding the zscore\n",
    "print(zscore)                                  #printing the zscore\n",
    "\n",
    "\n",
    "\n"
   ]
  },
  {
   "cell_type": "markdown",
   "metadata": {},
   "source": [
    "# Skewness"
   ]
  },
  {
   "cell_type": "code",
   "execution_count": 2,
   "metadata": {},
   "outputs": [
    {
     "name": "stdout",
     "output_type": "stream",
     "text": [
      "331.0\n"
     ]
    }
   ],
   "source": [
    "class1=[25,30,33,38,40,45,50,52,58,60,65,67,70,95]\n",
    "mean= sum(class1)/len(class1)                   #this is the medain\n",
    "uppervalue=[(x - mean)**2 for x in class1]\n",
    "finalvalue=sum(uppervalue)/len(class1)\n",
    "print(finalvalue)\n",
    "# str_divv\n",
    "# n= len(class1)\n",
    "# median =(class1[6]+class1[7])/2\n",
    "\n",
    "\n",
    "# skewness=(n/((n-1)*(n-2)))*sum(((x - mean)/str_divv)**3 for x in class1)\n",
    "# skew= 3 * (mean - median)/str_divv\n",
    "# print(skew)\n"
   ]
  },
  {
   "cell_type": "code",
   "execution_count": null,
   "metadata": {},
   "outputs": [],
   "source": []
  },
  {
   "cell_type": "code",
   "execution_count": null,
   "metadata": {},
   "outputs": [],
   "source": []
  },
  {
   "cell_type": "code",
   "execution_count": null,
   "metadata": {},
   "outputs": [],
   "source": []
  }
 ],
 "metadata": {
  "kernelspec": {
   "display_name": "Python 3",
   "language": "python",
   "name": "python3"
  },
  "language_info": {
   "codemirror_mode": {
    "name": "ipython",
    "version": 3
   },
   "file_extension": ".py",
   "mimetype": "text/x-python",
   "name": "python",
   "nbconvert_exporter": "python",
   "pygments_lexer": "ipython3",
   "version": "3.12.1"
  }
 },
 "nbformat": 4,
 "nbformat_minor": 2
}

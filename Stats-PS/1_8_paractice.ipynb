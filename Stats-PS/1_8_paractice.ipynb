{
 "cells": [
  {
   "cell_type": "code",
   "execution_count": null,
   "metadata": {},
   "outputs": [],
   "source": [
    "''' \n",
    "Scenario:\n",
    "A city experiences varying weather conditions and traffic congestion. Based on historical data, the\n",
    "following sample space is provided:\n",
    "Sample Space:\n",
    " Rainy and Traffic Jam: 20 days\n",
    " Rainy and No Traffic Jam: 10 days\n",
    " Sunny and Traffic Jam: 20 days\n",
    " Sunny and No Traffic Jam: 50 days\n",
    "'''"
   ]
  },
  {
   "cell_type": "markdown",
   "metadata": {},
   "source": [
    "# Exercise 1"
   ]
  },
  {
   "cell_type": "code",
   "execution_count": 6,
   "metadata": {},
   "outputs": [
    {
     "name": "stdout",
     "output_type": "stream",
     "text": [
      "this is the probability of rainny 0.3\n",
      "This is probality of traffic jam 0.4\n",
      "this is the joint probabilty 0.12\n",
      "this is the conditional probabilty  0.4\n",
      "this is the conditional probabilty 0.3\n"
     ]
    }
   ],
   "source": [
    "rt= 20                # Rainy and Traffic Jam\n",
    "rn= 10                  # Rainy and No Traffic Jam\n",
    "st= 20                    # Sunny and Traffic Jam\n",
    "sn= 50                      # Sunny and No Traffic Jam\n",
    "\n",
    "total= (rt+rn+st+sn)     # Total Days\n",
    "#  probabilty of rainny\n",
    "rainy=(rt+rn)/total\n",
    "print(\"this is the probability of rainny\", rainy)\n",
    "# print traffic jam\n",
    "traffic_jam= (rt+st)/total\n",
    "print(\"This is probality of traffic jam\" ,traffic_jam)\n",
    "# joint probability of rainy and traffic jam\n",
    "joint_prob= rainy*traffic_jam\n",
    "print(\"this is the joint probabilty\",joint_prob)\n",
    "#  conditional probabilty\n",
    "cond_prob1= (traffic_jam*rainy)/rainy\n",
    "print(\"this is the conditional probabilty \",cond_prob1)\n",
    "#  conditional probabilty\n",
    "cond_prob2=(traffic_jam*rainy)/traffic_jam\n",
    "print(\"this is the conditional probabilty\",cond_prob2)\n",
    "\n",
    "\n"
   ]
  },
  {
   "cell_type": "markdown",
   "metadata": {},
   "source": [
    "# Question no 2"
   ]
  },
  {
   "cell_type": "code",
   "execution_count": null,
   "metadata": {},
   "outputs": [],
   "source": [
    "''' \n",
    "Scenario:\n",
    "A medical test is used to detect a certain disease. The following sample space is provided based on a\n",
    "survey of 1,000 people:\n",
    "Sample Space:\n",
    " Has Disease and Positive Test: 9 people\n",
    " Has Disease and Negative Test: 1 person\n",
    " No Disease and Positive Test: 91 people\n",
    "\n",
    " No Disease and Negative Test: 899 people\n",
    "'''"
   ]
  },
  {
   "cell_type": "code",
   "execution_count": 8,
   "metadata": {},
   "outputs": [
    {
     "name": "stdout",
     "output_type": "stream",
     "text": [
      "Total people having disease 0.01\n",
      "Total people having positive test 0.1\n",
      "This is the joint probability 0.001\n",
      "this is the conditional probabilty 0.1\n",
      "this is the conditional probability 0.01\n"
     ]
    }
   ],
   "source": [
    "\n",
    "hdp=  9            #Has Disease and Positive Test\n",
    "hdn = 1              #Has Disease and Negative Test\n",
    "ndp= 91                #No Disease and Positive Test\n",
    "ndn= 899                  #No Disease and Negative Test\n",
    "total= 1000            #Total number of people    \n",
    "#  probability of disease\n",
    "disease=(hdp+hdn)/total\n",
    "print(\"Total people having disease\",disease)\n",
    "#  probabilty of positive test\n",
    "pos_test=(hdp+ndp)/total\n",
    "print(\"Total people having positive test\", pos_test)\n",
    "# calculate joint probability\n",
    "joint_probb=disease*pos_test\n",
    "print(\"This is the joint probability\",joint_probb)\n",
    "#  calculate conditional probability\n",
    "cond_probb1= (pos_test*disease)/disease\n",
    "print(\"this is the conditional probabilty\",cond_probb1)\n",
    "#  calculate conditional probability\n",
    "cond_probb2=(disease*pos_test)/pos_test\n",
    "print(\"this is the conditional probability\",cond_probb2)\n"
   ]
  },
  {
   "cell_type": "code",
   "execution_count": 9,
   "metadata": {},
   "outputs": [
    {
     "ename": "AttributeError",
     "evalue": "'list' object has no attribute 'swapcasse'",
     "output_type": "error",
     "traceback": [
      "\u001b[1;31m---------------------------------------------------------------------------\u001b[0m",
      "\u001b[1;31mAttributeError\u001b[0m                            Traceback (most recent call last)",
      "Cell \u001b[1;32mIn[9], line 2\u001b[0m\n\u001b[0;32m      1\u001b[0m str1 \u001b[38;5;241m=\u001b[39m [\u001b[38;5;241m1\u001b[39m,\u001b[38;5;241m3\u001b[39m,\u001b[38;5;241m4\u001b[39m,\u001b[38;5;241m5\u001b[39m,\u001b[38;5;241m7\u001b[39m,\u001b[38;5;241m6\u001b[39m]\n\u001b[1;32m----> 2\u001b[0m \u001b[38;5;28mprint\u001b[39m(\u001b[43mstr1\u001b[49m\u001b[38;5;241;43m.\u001b[39;49m\u001b[43mswapcasse\u001b[49m())\n",
      "\u001b[1;31mAttributeError\u001b[0m: 'list' object has no attribute 'swapcasse'"
     ]
    }
   ],
   "source": [
    "str1 = [1,3,4,5,7,6]\n",
    "print(str1.swapcasse())"
   ]
  },
  {
   "cell_type": "code",
   "execution_count": null,
   "metadata": {},
   "outputs": [],
   "source": []
  }
 ],
 "metadata": {
  "kernelspec": {
   "display_name": "Python 3",
   "language": "python",
   "name": "python3"
  },
  "language_info": {
   "codemirror_mode": {
    "name": "ipython",
    "version": 3
   },
   "file_extension": ".py",
   "mimetype": "text/x-python",
   "name": "python",
   "nbconvert_exporter": "python",
   "pygments_lexer": "ipython3",
   "version": "3.12.1"
  }
 },
 "nbformat": 4,
 "nbformat_minor": 2
}

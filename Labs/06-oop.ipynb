{
 "cells": [
  {
   "cell_type": "markdown",
   "id": "2d9813e4",
   "metadata": {},
   "source": [
    "# Question 1"
   ]
  },
  {
   "cell_type": "code",
   "execution_count": 117,
   "id": "525c3ae2",
   "metadata": {},
   "outputs": [
    {
     "name": "stdout",
     "output_type": "stream",
     "text": [
      "<__main__.country object at 0x0000022303D53220>\n",
      "Name:Ahmad And Provinces:PunjabName:Ahmad And Provinces:Punjab\n"
     ]
    }
   ],
   "source": [
    "'''The country class has two member variables, name and provinces and a method display which\n",
    "prints the member variable values. Both these variables and the methods are public as no specific\n",
    "keyword is assigned to them.'''\n",
    "\n",
    "class country:\n",
    "    def __init__(self, name, provinces):\n",
    "        self.name = name\n",
    "        self.provinces = provinces\n",
    "    def info(self):\n",
    "        return f\"Name:{self.name} And Provinces:{self.provinces}\"\n",
    "\n",
    "account = country(\"Ahmad\",\"Punjab\")\n",
    "print(account)\n",
    "file = open('example2.txt','a')\n",
    "file.write(account.info())\n",
    "file = open('example2.txt','r')\n",
    "a = file.read()\n",
    "print(a)"
   ]
  },
  {
   "cell_type": "code",
   "execution_count": null,
   "id": "6bee17b9",
   "metadata": {},
   "outputs": [],
   "source": []
  },
  {
   "cell_type": "markdown",
   "id": "1ab5a0c2",
   "metadata": {},
   "source": [
    "# Question2"
   ]
  },
  {
   "cell_type": "code",
   "execution_count": 49,
   "id": "5cd1e3b4",
   "metadata": {},
   "outputs": [
    {
     "name": "stdout",
     "output_type": "stream",
     "text": [
      "bark\n",
      "hoho\n",
      "hhh\n"
     ]
    }
   ],
   "source": [
    "'''Create Python classes that demonstrate the use of hierarchical inheritance.\n",
    "Implement the Animal, Bird, and Fish classes.\n",
    "Create instances of each class and test the make_sound method.'''\n",
    "\n",
    "class Animal:\n",
    "    def __init__(self,sound):\n",
    "        self.sound = sound\n",
    "    def make_sound(self):\n",
    "        print(self.sound)\n",
    "        \n",
    "class Bird(Animal):\n",
    "    def __init__(self, sound):\n",
    "        super().__init__(sound)\n",
    "        self.sound = sound\n",
    "    def make_sound(self):\n",
    "        print(self.sound)\n",
    "class Fish(Bird):\n",
    "    def __init__(self, sound):\n",
    "        super().__init__(sound)\n",
    "        self.sound = sound\n",
    "    def make_sound(self):\n",
    "        print(self.sound)\n",
    "        \n",
    "account = Animal(\"bark\")      \n",
    "account1 = Bird('hoho')\n",
    "account2 = Fish('hhh')\n",
    "\n",
    "account.make_sound()\n",
    "account1.make_sound()\n",
    "account2.make_sound()"
   ]
  },
  {
   "cell_type": "markdown",
   "id": "e89e3807",
   "metadata": {},
   "source": [
    "# Question 3"
   ]
  },
  {
   "cell_type": "code",
   "execution_count": 122,
   "id": "ea5a6f78",
   "metadata": {},
   "outputs": [
    {
     "name": "stdout",
     "output_type": "stream",
     "text": [
      "Employee Name is Ali\n",
      "Manager Name is Ahmad\n"
     ]
    }
   ],
   "source": [
    "'''Create an Employee class and Manager Class that demonstrates the use of protected variables'''\n",
    "\n",
    "class employee:\n",
    "    def __init__(self, name):\n",
    "        self.name = name\n",
    "    def _info(self):\n",
    "        print(\"Employee Name is\", self.name)\n",
    "class manager(employee):\n",
    "    def __init__(self, name):\n",
    "        self.name = name\n",
    "    def _info(self):\n",
    "        print(\"Manager Name is\", self.name)\n",
    "account = employee(\"Ali\")\n",
    "account1 = manager(\"Ahmad\")\n",
    "\n",
    "account._info()\n",
    "account1._info()"
   ]
  },
  {
   "cell_type": "markdown",
   "id": "4b830b36",
   "metadata": {},
   "source": [
    "# Question 4"
   ]
  },
  {
   "cell_type": "code",
   "execution_count": 1,
   "id": "5c47961d",
   "metadata": {},
   "outputs": [
    {
     "ename": "NameError",
     "evalue": "name 'employee' is not defined",
     "output_type": "error",
     "traceback": [
      "\u001b[1;31m---------------------------------------------------------------------------\u001b[0m",
      "\u001b[1;31mNameError\u001b[0m                                 Traceback (most recent call last)",
      "Cell \u001b[1;32mIn[1], line 20\u001b[0m\n\u001b[0;32m     18\u001b[0m             \u001b[38;5;28mprint\u001b[39m(\u001b[38;5;28mself\u001b[39m\u001b[38;5;241m.\u001b[39mname)\n\u001b[0;32m     19\u001b[0m Company \u001b[38;5;241m=\u001b[39m company(\u001b[38;5;124m'\u001b[39m\u001b[38;5;124mSoftware\u001b[39m\u001b[38;5;124m'\u001b[39m)\n\u001b[1;32m---> 20\u001b[0m Employee \u001b[38;5;241m=\u001b[39m \u001b[43memployee\u001b[49m(\u001b[38;5;124m\"\u001b[39m\u001b[38;5;124mAli\u001b[39m\u001b[38;5;124m\"\u001b[39m)\n\u001b[0;32m     21\u001b[0m Employee \u001b[38;5;241m=\u001b[39m employee(\u001b[38;5;124m\"\u001b[39m\u001b[38;5;124mAli\u001b[39m\u001b[38;5;124m\"\u001b[39m)\n\u001b[0;32m     23\u001b[0m Company\u001b[38;5;241m.\u001b[39minfo()\n",
      "\u001b[1;31mNameError\u001b[0m: name 'employee' is not defined"
     ]
    }
   ],
   "source": [
    "'''Create a Python class that demonstrates the use of inner/nested classes.\n",
    "1. Implement the Company and Employee classes.\n",
    "2. Create an instance of Company and its nested Employee class and test the methods.'''\n",
    "\n",
    "class company:\n",
    "    def __init__(self, name):\n",
    "        self.name = name\n",
    "        employees = []\n",
    "    def info(self):\n",
    "        Employee = self.employee(self.name)\n",
    "        self.employees.append(employee)\n",
    "        return Employee\n",
    "    \n",
    "    class employee:\n",
    "        def __init__(self, name):\n",
    "            self.name = name\n",
    "        def info(self):\n",
    "            print(self.name)\n",
    "Company = company('Software')\n",
    "Employee = employee(\"Ali\")\n",
    "Employee = employee(\"Ali\")\n",
    "\n",
    "Company.info()"
   ]
  },
  {
   "cell_type": "markdown",
   "id": "8b27791b",
   "metadata": {},
   "source": [
    "# Question 5"
   ]
  },
  {
   "cell_type": "code",
   "execution_count": 127,
   "id": "80fdbc90",
   "metadata": {},
   "outputs": [
    {
     "name": "stdout",
     "output_type": "stream",
     "text": [
      "Vehicle Driving is <bound method Vehicle.method of <__main__.Vehicle object at 0x0000022303DF38E0>>\n",
      "Car Driving is <bound method Car.method of <__main__.Car object at 0x0000022303C5DEE0>>\n",
      "Electric Car Driving is <bound method Electric_Car.method of <__main__.Electric_Car object at 0x0000022303DF3580>>\n"
     ]
    }
   ],
   "source": [
    "'''Create Python classes that demonstrate the use of multilevel inheritance. Implement the Vehicle,\n",
    "Car, and Electric Car classes. Create instances of each class and test the drive method.'''\n",
    "\n",
    "class Vehicle:\n",
    "    def __init__(self,method1):\n",
    "        self.method1 = method1\n",
    "    def method(self):\n",
    "        print(f\"Vehicle Driving is {self.method}\")\n",
    "class Car(Vehicle):\n",
    "    def __init__(self, method1, method2):\n",
    "        super().__init__(method1)\n",
    "        self.method2 = method2\n",
    "    def method(self):\n",
    "        print(f\"Car Driving is {self.method}\")\n",
    "class Electric_Car(Car):\n",
    "    def __init__(self, method1, method2, method3):\n",
    "        super().__init__(method1, method2)\n",
    "        self.method3 = method3\n",
    "    def method(self):\n",
    "        print(f\"Electric Car Driving is {self.method}\")\n",
    "        \n",
    "a = Vehicle(\"Vehicle Driving\")\n",
    "b = Car(\"Vehicle\", \"Car Driving\")            \n",
    "c = Electric_Car(\"Vehicle\",\"Car Driving\",\"Electric Car Driving\")            \n",
    "\n",
    "a.method()\n",
    "b.method()\n",
    "c.method()"
   ]
  },
  {
   "cell_type": "code",
   "execution_count": null,
   "id": "51283307",
   "metadata": {},
   "outputs": [],
   "source": []
  }
 ],
 "metadata": {
  "kernelspec": {
   "display_name": "Python 3 (ipykernel)",
   "language": "python",
   "name": "python3"
  },
  "language_info": {
   "codemirror_mode": {
    "name": "ipython",
    "version": 3
   },
   "file_extension": ".py",
   "mimetype": "text/x-python",
   "name": "python",
   "nbconvert_exporter": "python",
   "pygments_lexer": "ipython3",
   "version": "3.12.5"
  }
 },
 "nbformat": 4,
 "nbformat_minor": 5
}

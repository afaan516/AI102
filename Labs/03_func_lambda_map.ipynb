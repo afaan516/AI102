{
 "cells": [
  {
   "cell_type": "code",
   "execution_count": 1,
   "metadata": {},
   "outputs": [
    {
     "name": "stdout",
     "output_type": "stream",
     "text": [
      "[5, 2, 4, 1]\n"
     ]
    }
   ],
   "source": [
    "# swapping \n",
    "def change(s):\n",
    "    if len (s)<2:\n",
    "        return s\n",
    "    \n",
    "    s[0],s[-1] = s[-1],s[0]\n",
    "    return s\n",
    "listt=[1,2,4,5]\n",
    "print(change(listt)) "
   ]
  },
  {
   "cell_type": "code",
   "execution_count": 2,
   "metadata": {},
   "outputs": [
    {
     "name": "stdout",
     "output_type": "stream",
     "text": [
      "this is the sum: [12, 15, 18]\n"
     ]
    }
   ],
   "source": [
    "# sum all\n",
    "list1 = [1, 2, 3]\n",
    "list2 = [4, 5, 6]\n",
    "list3 = [7, 8, 9]\n",
    "many=list(map(lambda l1,l2,l3:l1+l2+l3,list3,list1,list2))\n",
    "print('this is the sum:',many)"
   ]
  },
  {
   "cell_type": "code",
   "execution_count": 3,
   "metadata": {},
   "outputs": [
    {
     "data": {
      "text/plain": [
       "[1, 2, 8, 9]"
      ]
     },
     "execution_count": 3,
     "metadata": {},
     "output_type": "execute_result"
    }
   ],
   "source": [
    "# intersec\n",
    "list1 = [1, 2, 3, 5, 7, 8, 9, 10]\n",
    "list2 = [1, 2, 4, 8, 9]\n",
    "intsec=list(filter(lambda x:x in list2,list1))\n",
    "intsec"
   ]
  },
  {
   "cell_type": "code",
   "execution_count": 1,
   "metadata": {},
   "outputs": [
    {
     "name": "stdout",
     "output_type": "stream",
     "text": [
      "[1, 2, 3, 4, 5, 6, 7, 8, 9]\n"
     ]
    }
   ],
   "source": [
    "# input values\n",
    "enter=input('enter numbers: ')\n",
    "ennter=list(map(int,enter.split()))\n",
    "print(ennter)"
   ]
  },
  {
   "cell_type": "code",
   "execution_count": null,
   "metadata": {},
   "outputs": [],
   "source": [
    "# even numbers \n",
    "input_strr=input('enter a values or numbers seprated by spaces: ')\n",
    "input_list=list(map(int,input_strr.split()))\n",
    "input_strr1=input('enter a values or numbers seprated by spaces: ')\n",
    "input_list1=list(map(int,input_strr1.split()))\n",
    "print('list1:',input_list)\n",
    "print('list2:',input_list1)\n",
    "newliss=list(filter(lambda x :  x%2==0,input_list))\n",
    "print(newliss)"
   ]
  },
  {
   "cell_type": "code",
   "execution_count": 2,
   "metadata": {},
   "outputs": [
    {
     "name": "stdout",
     "output_type": "stream",
     "text": [
      "20\n"
     ]
    }
   ],
   "source": [
    "# multiply using lambda\n",
    "double = lambda x , y: x*y\n",
    "print(double(4,5))"
   ]
  },
  {
   "cell_type": "code",
   "execution_count": 3,
   "metadata": {},
   "outputs": [
    {
     "data": {
      "text/plain": [
       "20"
      ]
     },
     "execution_count": 3,
     "metadata": {},
     "output_type": "execute_result"
    }
   ],
   "source": [
    "# factorial\n",
    "def factorial(n):\n",
    "    if n == 0:\n",
    "        return 1\n",
    "    n = n*(n-1)\n",
    "    return n\n",
    "factorial(5)"
   ]
  },
  {
   "cell_type": "code",
   "execution_count": null,
   "metadata": {},
   "outputs": [],
   "source": [
    "# local and global\n",
    "x = 10\n",
    "def my_func():\n",
    "    x = 20 \n",
    "    print('ths ids the local variable: ',x)\n",
    "my_func()\n",
    "print('this is the global variable:',x)\n",
    "my_func()"
   ]
  },
  {
   "cell_type": "code",
   "execution_count": null,
   "metadata": {},
   "outputs": [],
   "source": [
    "# sum \n",
    "def add(a,b):\n",
    "    return a+b\n",
    "# result=add(3,5)\n",
    "a = int(input('enter a number: '))\n",
    "b = int(input('enter a number: '))\n",
    "result = a + b\n",
    "print(result)"
   ]
  }
 ],
 "metadata": {
  "kernelspec": {
   "display_name": "Python 3",
   "language": "python",
   "name": "python3"
  },
  "language_info": {
   "codemirror_mode": {
    "name": "ipython",
    "version": 3
   },
   "file_extension": ".py",
   "mimetype": "text/x-python",
   "name": "python",
   "nbconvert_exporter": "python",
   "pygments_lexer": "ipython3",
   "version": "3.12.5"
  }
 },
 "nbformat": 4,
 "nbformat_minor": 2
}

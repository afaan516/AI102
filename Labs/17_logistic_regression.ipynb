{
 "cells": [
  {
   "cell_type": "code",
   "execution_count": 70,
   "metadata": {},
   "outputs": [],
   "source": [
    "import numpy as np\n",
    "import pandas as pd\n",
    "import matplotlib.pyplot as plt\n",
    "from sklearn.model_selection import train_test_split\n",
    "from sklearn.linear_model import LogisticRegression\n",
    "from sklearn.metrics import accuracy_score, confusion_matrix, classification_report\n",
    "from sklearn.metrics import precision_score, recall_score, f1_score"
   ]
  },
  {
   "cell_type": "code",
   "execution_count": 71,
   "metadata": {},
   "outputs": [
    {
     "name": "stdout",
     "output_type": "stream",
     "text": [
      "<class 'pandas.core.frame.DataFrame'>\n",
      "RangeIndex: 1000 entries, 0 to 999\n",
      "Data columns (total 16 columns):\n",
      " #   Column                   Non-Null Count  Dtype \n",
      "---  ------                   --------------  ----- \n",
      " 0   Age                      1000 non-null   int64 \n",
      " 1   Gender                   1000 non-null   object\n",
      " 2   Cholesterol              1000 non-null   int64 \n",
      " 3   Blood Pressure           1000 non-null   int64 \n",
      " 4   Heart Rate               1000 non-null   int64 \n",
      " 5   Smoking                  1000 non-null   object\n",
      " 6   Alcohol Intake           660 non-null    object\n",
      " 7   Exercise Hours           1000 non-null   int64 \n",
      " 8   Family History           1000 non-null   object\n",
      " 9   Diabetes                 1000 non-null   object\n",
      " 10  Obesity                  1000 non-null   object\n",
      " 11  Stress Level             1000 non-null   int64 \n",
      " 12  Blood Sugar              1000 non-null   int64 \n",
      " 13  Exercise Induced Angina  1000 non-null   object\n",
      " 14  Chest Pain Type          1000 non-null   object\n",
      " 15  Heart Disease            1000 non-null   int64 \n",
      "dtypes: int64(8), object(8)\n",
      "memory usage: 125.1+ KB\n"
     ]
    }
   ],
   "source": [
    "data=pd.read_csv('heart_disease_dataset.csv')\n",
    "data.info()"
   ]
  },
  {
   "cell_type": "code",
   "execution_count": 72,
   "metadata": {},
   "outputs": [
    {
     "data": {
      "text/html": [
       "<div>\n",
       "<style scoped>\n",
       "    .dataframe tbody tr th:only-of-type {\n",
       "        vertical-align: middle;\n",
       "    }\n",
       "\n",
       "    .dataframe tbody tr th {\n",
       "        vertical-align: top;\n",
       "    }\n",
       "\n",
       "    .dataframe thead th {\n",
       "        text-align: right;\n",
       "    }\n",
       "</style>\n",
       "<table border=\"1\" class=\"dataframe\">\n",
       "  <thead>\n",
       "    <tr style=\"text-align: right;\">\n",
       "      <th></th>\n",
       "      <th>Age</th>\n",
       "      <th>Gender</th>\n",
       "      <th>Cholesterol</th>\n",
       "      <th>Blood Pressure</th>\n",
       "      <th>Heart Rate</th>\n",
       "      <th>Smoking</th>\n",
       "      <th>Alcohol Intake</th>\n",
       "      <th>Exercise Hours</th>\n",
       "      <th>Family History</th>\n",
       "      <th>Diabetes</th>\n",
       "      <th>Obesity</th>\n",
       "      <th>Stress Level</th>\n",
       "      <th>Blood Sugar</th>\n",
       "      <th>Exercise Induced Angina</th>\n",
       "      <th>Chest Pain Type</th>\n",
       "      <th>Heart Disease</th>\n",
       "    </tr>\n",
       "  </thead>\n",
       "  <tbody>\n",
       "    <tr>\n",
       "      <th>0</th>\n",
       "      <td>75</td>\n",
       "      <td>Female</td>\n",
       "      <td>228</td>\n",
       "      <td>119</td>\n",
       "      <td>66</td>\n",
       "      <td>Current</td>\n",
       "      <td>Heavy</td>\n",
       "      <td>1</td>\n",
       "      <td>No</td>\n",
       "      <td>No</td>\n",
       "      <td>Yes</td>\n",
       "      <td>8</td>\n",
       "      <td>119</td>\n",
       "      <td>Yes</td>\n",
       "      <td>Atypical Angina</td>\n",
       "      <td>1</td>\n",
       "    </tr>\n",
       "    <tr>\n",
       "      <th>1</th>\n",
       "      <td>48</td>\n",
       "      <td>Male</td>\n",
       "      <td>204</td>\n",
       "      <td>165</td>\n",
       "      <td>62</td>\n",
       "      <td>Current</td>\n",
       "      <td>NaN</td>\n",
       "      <td>5</td>\n",
       "      <td>No</td>\n",
       "      <td>No</td>\n",
       "      <td>No</td>\n",
       "      <td>9</td>\n",
       "      <td>70</td>\n",
       "      <td>Yes</td>\n",
       "      <td>Typical Angina</td>\n",
       "      <td>0</td>\n",
       "    </tr>\n",
       "    <tr>\n",
       "      <th>2</th>\n",
       "      <td>53</td>\n",
       "      <td>Male</td>\n",
       "      <td>234</td>\n",
       "      <td>91</td>\n",
       "      <td>67</td>\n",
       "      <td>Never</td>\n",
       "      <td>Heavy</td>\n",
       "      <td>3</td>\n",
       "      <td>Yes</td>\n",
       "      <td>No</td>\n",
       "      <td>Yes</td>\n",
       "      <td>5</td>\n",
       "      <td>196</td>\n",
       "      <td>Yes</td>\n",
       "      <td>Atypical Angina</td>\n",
       "      <td>1</td>\n",
       "    </tr>\n",
       "    <tr>\n",
       "      <th>3</th>\n",
       "      <td>69</td>\n",
       "      <td>Female</td>\n",
       "      <td>192</td>\n",
       "      <td>90</td>\n",
       "      <td>72</td>\n",
       "      <td>Current</td>\n",
       "      <td>NaN</td>\n",
       "      <td>4</td>\n",
       "      <td>No</td>\n",
       "      <td>Yes</td>\n",
       "      <td>No</td>\n",
       "      <td>7</td>\n",
       "      <td>107</td>\n",
       "      <td>Yes</td>\n",
       "      <td>Non-anginal Pain</td>\n",
       "      <td>0</td>\n",
       "    </tr>\n",
       "    <tr>\n",
       "      <th>4</th>\n",
       "      <td>62</td>\n",
       "      <td>Female</td>\n",
       "      <td>172</td>\n",
       "      <td>163</td>\n",
       "      <td>93</td>\n",
       "      <td>Never</td>\n",
       "      <td>NaN</td>\n",
       "      <td>6</td>\n",
       "      <td>No</td>\n",
       "      <td>Yes</td>\n",
       "      <td>No</td>\n",
       "      <td>2</td>\n",
       "      <td>183</td>\n",
       "      <td>Yes</td>\n",
       "      <td>Asymptomatic</td>\n",
       "      <td>0</td>\n",
       "    </tr>\n",
       "  </tbody>\n",
       "</table>\n",
       "</div>"
      ],
      "text/plain": [
       "   Age  Gender  Cholesterol  Blood Pressure  Heart Rate  Smoking  \\\n",
       "0   75  Female          228             119          66  Current   \n",
       "1   48    Male          204             165          62  Current   \n",
       "2   53    Male          234              91          67    Never   \n",
       "3   69  Female          192              90          72  Current   \n",
       "4   62  Female          172             163          93    Never   \n",
       "\n",
       "  Alcohol Intake  Exercise Hours Family History Diabetes Obesity  \\\n",
       "0          Heavy               1             No       No     Yes   \n",
       "1            NaN               5             No       No      No   \n",
       "2          Heavy               3            Yes       No     Yes   \n",
       "3            NaN               4             No      Yes      No   \n",
       "4            NaN               6             No      Yes      No   \n",
       "\n",
       "   Stress Level  Blood Sugar Exercise Induced Angina   Chest Pain Type  \\\n",
       "0             8          119                     Yes   Atypical Angina   \n",
       "1             9           70                     Yes    Typical Angina   \n",
       "2             5          196                     Yes   Atypical Angina   \n",
       "3             7          107                     Yes  Non-anginal Pain   \n",
       "4             2          183                     Yes      Asymptomatic   \n",
       "\n",
       "   Heart Disease  \n",
       "0              1  \n",
       "1              0  \n",
       "2              1  \n",
       "3              0  \n",
       "4              0  "
      ]
     },
     "execution_count": 72,
     "metadata": {},
     "output_type": "execute_result"
    }
   ],
   "source": [
    "df=pd.DataFrame(data)\n",
    "df.head()\n"
   ]
  },
  {
   "cell_type": "code",
   "execution_count": 73,
   "metadata": {},
   "outputs": [
    {
     "name": "stdout",
     "output_type": "stream",
     "text": [
      "<class 'pandas.core.frame.DataFrame'>\n",
      "RangeIndex: 1000 entries, 0 to 999\n",
      "Data columns (total 16 columns):\n",
      " #   Column                   Non-Null Count  Dtype \n",
      "---  ------                   --------------  ----- \n",
      " 0   Age                      1000 non-null   int64 \n",
      " 1   Gender                   1000 non-null   object\n",
      " 2   Cholesterol              1000 non-null   int64 \n",
      " 3   Blood Pressure           1000 non-null   int64 \n",
      " 4   Heart Rate               1000 non-null   int64 \n",
      " 5   Smoking                  1000 non-null   object\n",
      " 6   Alcohol Intake           660 non-null    object\n",
      " 7   Exercise Hours           1000 non-null   int64 \n",
      " 8   Family History           1000 non-null   object\n",
      " 9   Diabetes                 1000 non-null   object\n",
      " 10  Obesity                  1000 non-null   object\n",
      " 11  Stress Level             1000 non-null   int64 \n",
      " 12  Blood Sugar              1000 non-null   int64 \n",
      " 13  Exercise Induced Angina  1000 non-null   object\n",
      " 14  Chest Pain Type          1000 non-null   object\n",
      " 15  Heart Disease            1000 non-null   int64 \n",
      "dtypes: int64(8), object(8)\n",
      "memory usage: 125.1+ KB\n"
     ]
    }
   ],
   "source": [
    "data.info()"
   ]
  },
  {
   "cell_type": "code",
   "execution_count": 74,
   "metadata": {},
   "outputs": [
    {
     "name": "stdout",
     "output_type": "stream",
     "text": [
      "<class 'pandas.core.frame.DataFrame'>\n",
      "RangeIndex: 1000 entries, 0 to 999\n",
      "Data columns (total 16 columns):\n",
      " #   Column                   Non-Null Count  Dtype \n",
      "---  ------                   --------------  ----- \n",
      " 0   Age                      1000 non-null   int64 \n",
      " 1   Gender                   1000 non-null   object\n",
      " 2   Cholesterol              1000 non-null   int64 \n",
      " 3   Blood Pressure           1000 non-null   int64 \n",
      " 4   Heart Rate               1000 non-null   int64 \n",
      " 5   Smoking                  1000 non-null   object\n",
      " 6   Alcohol Intake           660 non-null    object\n",
      " 7   Exercise Hours           1000 non-null   int64 \n",
      " 8   Family History           1000 non-null   object\n",
      " 9   Diabetes                 1000 non-null   object\n",
      " 10  Obesity                  1000 non-null   object\n",
      " 11  Stress Level             1000 non-null   int64 \n",
      " 12  Blood Sugar              1000 non-null   int64 \n",
      " 13  Exercise Induced Angina  1000 non-null   object\n",
      " 14  Chest Pain Type          1000 non-null   object\n",
      " 15  Heart Disease            1000 non-null   int64 \n",
      "dtypes: int64(8), object(8)\n",
      "memory usage: 125.1+ KB\n"
     ]
    }
   ],
   "source": [
    "df.info()"
   ]
  },
  {
   "cell_type": "code",
   "execution_count": 75,
   "metadata": {},
   "outputs": [
    {
     "name": "stdout",
     "output_type": "stream",
     "text": [
      "Accuracy: 0.625\n",
      "Precision: 0.5573770491803278\n",
      "Recall: 0.4146341463414634\n",
      "F1 Score: 0.4755244755244755\n",
      "Confusion Matrix:\n",
      " [[91 27]\n",
      " [48 34]]\n",
      "Classification Report:\n",
      "               precision    recall  f1-score   support\n",
      "\n",
      "           0       0.65      0.77      0.71       118\n",
      "           1       0.56      0.41      0.48        82\n",
      "\n",
      "    accuracy                           0.62       200\n",
      "   macro avg       0.61      0.59      0.59       200\n",
      "weighted avg       0.61      0.62      0.61       200\n",
      "\n"
     ]
    }
   ],
   "source": [
    "X = df[['Blood Pressure', 'Cholesterol']]\n",
    "y = df['Heart Disease']\n",
    "\n",
    "# Split the dataset into training and testing sets\n",
    "X_train, X_test, y_train, y_test = train_test_split(X, y, test_size=0.2, random_state=42)\n",
    "\n",
    "# Create and train the logistic regression model\n",
    "model = LogisticRegression()\n",
    "model.fit(X_train, y_train)\n",
    "\n",
    "# Make predictions on the test set\n",
    "y_pred = model.predict(X_test)\n",
    "\n",
    "# Evaluate the model\n",
    "accuracy = accuracy_score(y_test, y_pred)\n",
    "precision = precision_score(y_test, y_pred)\n",
    "recall = recall_score(y_test, y_pred)\n",
    "f1 = f1_score(y_test, y_pred)\n",
    "conf_matrix = confusion_matrix(y_test, y_pred)\n",
    "class_report = classification_report(y_test, y_pred)\n",
    "\n",
    "print(\"Accuracy:\", accuracy)\n",
    "print(\"Precision:\", precision)\n",
    "print(\"Recall:\", recall)\n",
    "print(\"F1 Score:\", f1)\n",
    "print(\"Confusion Matrix:\\n\", conf_matrix)\n",
    "print(\"Classification Report:\\n\", class_report)\n",
    "\n",
    "\n"
   ]
  },
  {
   "cell_type": "code",
   "execution_count": 76,
   "metadata": {},
   "outputs": [
    {
     "data": {
      "image/png": "[encoded data removed]",
      "text/plain": [
       "<Figure size 1000x500 with 2 Axes>"
      ]
     },
     "metadata": {},
     "output_type": "display_data"
    }
   ],
   "source": [
    "plt.figure(figsize=(10, 5))\n",
    "plt.subplot(1,2,1)\n",
    "\n",
    "plt.scatter(df['Cholesterol'], df['Heart Disease'], color='blue', label='Actual')\n",
    "plt.scatter(X_test['Cholesterol'], y_pred, color='red', marker='x', label='Predicted')\n",
    "plt.xlabel('Cholesterol')\n",
    "plt.ylabel('Disease (0 = No, 1 = Yes)')\n",
    "plt.title('Cholesterol vs Heart Disease')\n",
    "\n",
    "plt.legend()\n",
    "plt.subplot(1,2,2)\n",
    "plt.scatter(df['Blood Pressure'], df['Heart Disease'], color='blue', label='Actual')\n",
    "plt.scatter(X_test['Blood Pressure'], y_pred, color='red', marker='x', label='Predicted')\n",
    "plt.xlabel('Blood Pressure')\n",
    "plt.ylabel('Disease (0 = No, 1 = Yes)')\n",
    "plt.title('Blood Pressure vs Heart Disease')\n",
    "\n",
    "plt.legend()\n",
    "plt.show()"
   ]
  },
  {
   "cell_type": "code",
   "execution_count": 77,
   "metadata": {},
   "outputs": [
    {
     "name": "stdout",
     "output_type": "stream",
     "text": [
      "Accuracy: 0.87\n",
      "Precision: 0.8414634146341463\n",
      "Recall: 0.8414634146341463\n",
      "F1 Score: 0.8414634146341463\n",
      "Confusion Matrix:\n",
      " [[105  13]\n",
      " [ 13  69]]\n",
      "Classification Report:\n",
      "               precision    recall  f1-score   support\n",
      "\n",
      "           0       0.89      0.89      0.89       118\n",
      "           1       0.84      0.84      0.84        82\n",
      "\n",
      "    accuracy                           0.87       200\n",
      "   macro avg       0.87      0.87      0.87       200\n",
      "weighted avg       0.87      0.87      0.87       200\n",
      "\n"
     ]
    },
    {
     "data": {
      "image/png": "[encoded data removed]",
      "text/plain": [
       "<Figure size 640x480 with 1 Axes>"
      ]
     },
     "metadata": {},
     "output_type": "display_data"
    }
   ],
   "source": [
    "X = df[['Age', 'Cholesterol']]\n",
    "y = df['Heart Disease']\n",
    "\n",
    "# Split the dataset into training and testing sets\n",
    "X_train, X_test, y_train, y_test = train_test_split(X, y, test_size=0.2, random_state=42)\n",
    "\n",
    "# Create and train the logistic regression model\n",
    "model = LogisticRegression()\n",
    "model.fit(X_train, y_train)\n",
    "\n",
    "# Make predictions on the test set\n",
    "y_pred = model.predict(X_test)\n",
    "\n",
    "# Evaluate the model\n",
    "accuracy = accuracy_score(y_test, y_pred)\n",
    "precision = precision_score(y_test, y_pred)\n",
    "recall = recall_score(y_test, y_pred)\n",
    "f1 = f1_score(y_test, y_pred)\n",
    "conf_matrix = confusion_matrix(y_test, y_pred)\n",
    "class_report = classification_report(y_test, y_pred)\n",
    "\n",
    "print(\"Accuracy:\", accuracy)\n",
    "print(\"Precision:\", precision)\n",
    "print(\"Recall:\", recall)\n",
    "print(\"F1 Score:\", f1)\n",
    "print(\"Confusion Matrix:\\n\", conf_matrix)\n",
    "print(\"Classification Report:\\n\", class_report)\n",
    "\n",
    "# Visualize the results (for simplicity, just hours studied vs. passed)\n",
    "plt.scatter(df['Cholesterol'], df['Heart Disease'], color='blue', label='Actual')\n",
    "plt.scatter(X_test['Cholesterol'], y_pred, color='red', marker='x', label='Predicted')\n",
    "plt.xlabel('Hours Studied')\n",
    "plt.ylabel('Passed (0 = No, 1 = Yes)')\n",
    "plt.title('Logistic Regression: Hours Studied vs. Passed')\n",
    "plt.legend()\n",
    "plt.show()"
   ]
  },
  {
   "cell_type": "code",
   "execution_count": 78,
   "metadata": {},
   "outputs": [
    {
     "name": "stdout",
     "output_type": "stream",
     "text": [
      "<class 'pandas.core.frame.DataFrame'>\n",
      "RangeIndex: 1000 entries, 0 to 999\n",
      "Data columns (total 15 columns):\n",
      " #   Column                   Non-Null Count  Dtype \n",
      "---  ------                   --------------  ----- \n",
      " 0   Age                      1000 non-null   int64 \n",
      " 1   Gender                   1000 non-null   object\n",
      " 2   Cholesterol              1000 non-null   int64 \n",
      " 3   Blood Pressure           1000 non-null   int64 \n",
      " 4   Heart Rate               1000 non-null   int64 \n",
      " 5   Smoking                  1000 non-null   object\n",
      " 6   Exercise Hours           1000 non-null   int64 \n",
      " 7   Family History           1000 non-null   object\n",
      " 8   Diabetes                 1000 non-null   object\n",
      " 9   Obesity                  1000 non-null   object\n",
      " 10  Stress Level             1000 non-null   int64 \n",
      " 11  Blood Sugar              1000 non-null   int64 \n",
      " 12  Exercise Induced Angina  1000 non-null   object\n",
      " 13  Chest Pain Type          1000 non-null   object\n",
      " 14  Heart Disease            1000 non-null   int64 \n",
      "dtypes: int64(8), object(7)\n",
      "memory usage: 117.3+ KB\n"
     ]
    }
   ],
   "source": [
    "df= df. drop('Alcohol Intake', axis=1) \n",
    "df.info()"
   ]
  },
  {
   "cell_type": "code",
   "execution_count": 79,
   "metadata": {},
   "outputs": [],
   "source": [
    "from sklearn.preprocessing import OneHotEncoder\n"
   ]
  },
  {
   "cell_type": "code",
   "execution_count": 80,
   "metadata": {},
   "outputs": [],
   "source": [
    "cat_col= df.select_dtypes(include=['object']).columns\n",
    "encoder = OneHotEncoder(sparse_output=False) # to create dense\n",
    "encoded = encoder.fit_transform(df[cat_col]) # fit and transform the data [[]] to make it df not series, result is 2D array\n",
    "# labels the columns appropriately according to categories\n",
    "encoded = pd.DataFrame(encoded, columns=encoder.get_feature_names_out()) # convert 2D array into pandas df again\n",
    "# Combine encoded data with other features\n",
    "df_encoded = pd.concat([encoded, df.drop(columns=cat_col)], axis=1) # axis=1: This specifies that the concatenation should occur horizontally, i.e., along the column axis.\n",
    "\n"
   ]
  },
  {
   "cell_type": "code",
   "execution_count": 81,
   "metadata": {},
   "outputs": [],
   "source": [
    "X=df_encoded.drop(['Heart Disease'],axis=1)\n",
    "y=df_encoded['Heart Disease']"
   ]
  },
  {
   "cell_type": "code",
   "execution_count": 82,
   "metadata": {},
   "outputs": [
    {
     "name": "stdout",
     "output_type": "stream",
     "text": [
      "Accuracy: 0.83\n",
      "Precision: 0.8076923076923077\n",
      "Recall: 0.7682926829268293\n",
      "F1 Score: 0.7875\n",
      "Confusion Matrix:\n",
      " [[103  15]\n",
      " [ 19  63]]\n",
      "Classification Report:\n",
      "               precision    recall  f1-score   support\n",
      "\n",
      "           0       0.84      0.87      0.86       118\n",
      "           1       0.81      0.77      0.79        82\n",
      "\n",
      "    accuracy                           0.83       200\n",
      "   macro avg       0.83      0.82      0.82       200\n",
      "weighted avg       0.83      0.83      0.83       200\n",
      "\n"
     ]
    },
    {
     "name": "stderr",
     "output_type": "stream",
     "text": [
      "c:\\Users\\Afan Pc\\AppData\\Local\\Programs\\Python\\Python312\\Lib\\site-packages\\sklearn\\linear_model\\_logistic.py:469: ConvergenceWarning: lbfgs failed to converge (status=1):\n",
      "STOP: TOTAL NO. of ITERATIONS REACHED LIMIT.\n",
      "\n",
      "Increase the number of iterations (max_iter) or scale the data as shown in:\n",
      "    https://scikit-learn.org/stable/modules/preprocessing.html\n",
      "Please also refer to the documentation for alternative solver options:\n",
      "    https://scikit-learn.org/stable/modules/linear_model.html#logistic-regression\n",
      "  n_iter_i = _check_optimize_result(\n"
     ]
    }
   ],
   "source": [
    "X_train, X_test, y_train, y_test = train_test_split(X, y, test_size=0.2, random_state=42)\n",
    "\n",
    "# Create and train the logistic regression model\n",
    "model = LogisticRegression()\n",
    "model.fit(X_train, y_train)\n",
    "\n",
    "# Make predictions on the test set\n",
    "y_pred = model.predict(X_test)\n",
    "\n",
    "# Evaluate the model\n",
    "accuracy = accuracy_score(y_test, y_pred)\n",
    "precision = precision_score(y_test, y_pred)\n",
    "recall = recall_score(y_test, y_pred)\n",
    "f1 = f1_score(y_test, y_pred)\n",
    "conf_matrix = confusion_matrix(y_test, y_pred)\n",
    "class_report = classification_report(y_test, y_pred)\n",
    "\n",
    "print(\"Accuracy:\", accuracy)\n",
    "print(\"Precision:\", precision)\n",
    "print(\"Recall:\", recall)\n",
    "print(\"F1 Score:\", f1)\n",
    "print(\"Confusion Matrix:\\n\", conf_matrix)\n",
    "print(\"Classification Report:\\n\", class_report)"
   ]
  },
  {
   "cell_type": "code",
   "execution_count": null,
   "metadata": {},
   "outputs": [],
   "source": []
  }
 ],
 "metadata": {
  "kernelspec": {
   "display_name": "Python 3",
   "language": "python",
   "name": "python3"
  },
  "language_info": {
   "codemirror_mode": {
    "name": "ipython",
    "version": 3
   },
   "file_extension": ".py",
   "mimetype": "text/x-python",
   "name": "python",
   "nbconvert_exporter": "python",
   "pygments_lexer": "ipython3",
   "version": "3.12.5"
  }
 },
 "nbformat": 4,
 "nbformat_minor": 2
}

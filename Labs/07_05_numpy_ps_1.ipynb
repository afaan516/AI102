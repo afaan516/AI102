{
 "cells": [
  {
   "cell_type": "markdown",
   "metadata": {},
   "source": [
    "# EDA for Python Libraries\n",
    "## Numpy"
   ]
  },
  {
   "cell_type": "code",
   "execution_count": 1,
   "metadata": {},
   "outputs": [],
   "source": [
    "import numpy as np\n"
   ]
  },
  {
   "cell_type": "code",
   "execution_count": 18,
   "metadata": {},
   "outputs": [
    {
     "data": {
      "text/plain": [
       "array([[ 1,  6],\n",
       "       [ 2,  7],\n",
       "       [ 3,  8],\n",
       "       [ 4,  9],\n",
       "       [ 5, 10]])"
      ]
     },
     "execution_count": 18,
     "metadata": {},
     "output_type": "execute_result"
    }
   ],
   "source": [
    "array_1=([1,2,3,4,5],[6,7,8,9,10])\n",
    "np.shape(array_1)\n",
    "np.transpose(array_1)"
   ]
  },
  {
   "cell_type": "code",
   "execution_count": 51,
   "metadata": {},
   "outputs": [
    {
     "name": "stdout",
     "output_type": "stream",
     "text": [
      "[[ 1  2  3  4  5]\n",
      " [10  9  8  7  6]]\n",
      "int64\n",
      "(2, 5)\n",
      "[[ 1 10]\n",
      " [ 2  9]\n",
      " [ 3  8]\n",
      " [ 4  7]\n",
      " [ 5  6]]\n",
      "55\n",
      "4\n",
      "5\n",
      "2\n",
      "0\n",
      "[[ 1  2  3  4  5]\n",
      " [ 6  7  8  9 10]]\n"
     ]
    }
   ],
   "source": [
    "arr=np.array([[1,2,3,4,5],[10,9,8,7,6]])\n",
    "print(arr)\n",
    "print(arr.dtype)\n",
    "print(arr.shape)\n",
    "print(arr.T)\n",
    "print(arr.sum())\n",
    "print(arr[0,3])   #only printing a specific element\n",
    "print(arr.argmax())\n",
    "print(arr.ndim)\n",
    "print(arr.argmin())\n",
    "print(np.sort(arr))"
   ]
  },
  {
   "cell_type": "code",
   "execution_count": 53,
   "metadata": {},
   "outputs": [
    {
     "name": "stdout",
     "output_type": "stream",
     "text": [
      "add:  [15 25 35]\n",
      "sub:  [ 7 19 31]\n",
      "mul:  [44 66 66]\n",
      "div:  [ 2.75        7.33333333 16.5       ]\n",
      "flordiv:  [ 2  7 16]\n",
      "modo:  [3 1 1]\n",
      "equals:  [False False False]\n",
      "equals:  [3 1 1]\n",
      "less:  [False False False]\n",
      "greater:  [ True  True  True]\n",
      "not equal:  [ True  True  True]\n",
      "greater or equal to:  [ True  True  True]\n"
     ]
    }
   ],
   "source": [
    "import numpy as np\n",
    "arr1=np.array([11,22,33])\n",
    "arr2=np.array([4,3,2])\n",
    "print('add: ',arr1+arr2)\n",
    "print('sub: ',arr1-arr2)\n",
    "print('mul: ',arr1*arr2)\n",
    "print('div: ',arr1/arr2)\n",
    "print('flordiv: ',arr1//arr2)\n",
    "print('modo: ',arr1%arr2)\n",
    "print('equals: ',arr1==arr2)\n",
    "print('less: ',arr1<arr2)\n",
    "print('greater: ',arr1>arr2)\n",
    "print('not equal: ',arr1!=arr2)\n",
    "print('greater or equal to: ',arr1>=arr2)\n",
    "\n"
   ]
  },
  {
   "cell_type": "code",
   "execution_count": 50,
   "metadata": {},
   "outputs": [
    {
     "name": "stdout",
     "output_type": "stream",
     "text": [
      "22\n",
      "[[2]\n",
      " [5]]\n"
     ]
    }
   ],
   "source": [
    "import numpy as np\n",
    "arr= np.array([11,22,33,44])\n",
    "print(arr[1])\n",
    "arr2d = np.array([[1, 2, 3], [4, 5, 6], [7, 8, 9]])\n",
    "print(arr2d[0:2,1:2]) #getting only specific elements\n",
    "# print(arr2d[0:,2:2])"
   ]
  },
  {
   "cell_type": "code",
   "execution_count": 52,
   "metadata": {},
   "outputs": [
    {
     "name": "stdout",
     "output_type": "stream",
     "text": [
      "66\n"
     ]
    }
   ],
   "source": [
    "arr1=np.array([11,22,33])\n",
    "print(arr1.sum())\n"
   ]
  },
  {
   "cell_type": "code",
   "execution_count": null,
   "metadata": {},
   "outputs": [],
   "source": []
  }
 ],
 "metadata": {
  "kernelspec": {
   "display_name": "Python 3",
   "language": "python",
   "name": "python3"
  },
  "language_info": {
   "codemirror_mode": {
    "name": "ipython",
    "version": 3
   },
   "file_extension": ".py",
   "mimetype": "text/x-python",
   "name": "python",
   "nbconvert_exporter": "python",
   "pygments_lexer": "ipython3",
   "version": "3.12.1"
  }
 },
 "nbformat": 4,
 "nbformat_minor": 2
}

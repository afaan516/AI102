{
 "cells": [
  {
   "cell_type": "markdown",
   "metadata": {},
   "source": [
    "# EDA with Python Libraries \n",
    "## Pandas part 2"
   ]
  },
  {
   "cell_type": "code",
   "execution_count": 1,
   "metadata": {},
   "outputs": [],
   "source": [
    "import pandas as pd\n",
    "import numpy as np"
   ]
  },
  {
   "cell_type": "code",
   "execution_count": 4,
   "metadata": {},
   "outputs": [
    {
     "name": "stdout",
     "output_type": "stream",
     "text": [
      "  key1  key2_x  value_x  key2_y  value_y\n",
      "0    A       1       10       1      100\n",
      "1    B       2       20       2      200\n"
     ]
    }
   ],
   "source": [
    "import pandas as pd\n",
    "\n",
    "df1 = pd.DataFrame({'key1': ['A', 'B', 'C'], 'key2': [1, 2, 3], 'value': [10, 20, 30]})\n",
    "df2 = pd.DataFrame({'key1': ['A', 'B', 'D'], 'key2': [1, 2, 4], 'value': [100, 200, 300]})\n",
    "inner_join=pd.merge(df1,df2,on='key1',how='inner')\n",
    "print(inner_join)"
   ]
  },
  {
   "cell_type": "code",
   "execution_count": 12,
   "metadata": {},
   "outputs": [
    {
     "name": "stdout",
     "output_type": "stream",
     "text": [
      "   id value_x value_y\n",
      "0   1       A     NaN\n",
      "1   2       B       D\n",
      "2   3       C       E\n",
      "3   4     NaN       F\n",
      " filled value\n",
      "   id value_x value_y\n",
      "0   1       A       0\n",
      "1   2       B       D\n",
      "2   3       C       E\n",
      "3   4       0       F\n"
     ]
    }
   ],
   "source": [
    "df1 = pd.DataFrame({'id': [1, 2, 3], 'value': ['A', 'B', 'C']})\n",
    "df2 = pd.DataFrame({'id': [2, 3, 4], 'value': ['D', 'E', 'F']})\n",
    "outter_join=pd.merge(df1,df2,on='id',how='outer')\n",
    "print(outter_join)\n",
    "newoutter=outter_join.fillna(0)\n",
    "print(' filled value')\n",
    "print(newoutter)\n"
   ]
  },
  {
   "cell_type": "code",
   "execution_count": 31,
   "metadata": {},
   "outputs": [
    {
     "name": "stdout",
     "output_type": "stream",
     "text": [
      "   id  value_x  value_y\n",
      "0   1     10.0       30\n",
      "1   3      NaN       40\n"
     ]
    }
   ],
   "source": [
    "df1 = pd.DataFrame({'id': [1, 2], 'value': [10, 20]})\n",
    "df2 = pd.DataFrame({'id': [1, 3], 'value': [30, 40]})\n",
    "right_join=pd.merge(df1,df2,on='id',how='right')\n",
    "print(right_join)\n",
    "\n"
   ]
  },
  {
   "cell_type": "code",
   "execution_count": 36,
   "metadata": {},
   "outputs": [
    {
     "name": "stdout",
     "output_type": "stream",
     "text": [
      "   valueleft  valueright\n",
      "A         10        30.0\n",
      "B         20         NaN\n"
     ]
    }
   ],
   "source": [
    "df1 = pd.DataFrame({'value': [10, 20]}, index=['A', 'B'])\n",
    "df2 = pd.DataFrame({'value': [30, 40]}, index=['A', 'C'])\n",
    "# newdf=pd.merge(df1,df2,on='index',how='left',lsu)\n",
    "newdf=df1.join(df2,how='left',rsuffix='right',lsuffix='left')\n",
    "print(newdf)\n"
   ]
  },
  {
   "cell_type": "code",
   "execution_count": 34,
   "metadata": {},
   "outputs": [
    {
     "data": {
      "text/html": [
       "<div>\n",
       "<style scoped>\n",
       "    .dataframe tbody tr th:only-of-type {\n",
       "        vertical-align: middle;\n",
       "    }\n",
       "\n",
       "    .dataframe tbody tr th {\n",
       "        vertical-align: top;\n",
       "    }\n",
       "\n",
       "    .dataframe thead th {\n",
       "        text-align: right;\n",
       "    }\n",
       "</style>\n",
       "<table border=\"1\" class=\"dataframe\">\n",
       "  <thead>\n",
       "    <tr style=\"text-align: right;\">\n",
       "      <th></th>\n",
       "      <th>A</th>\n",
       "      <th>B</th>\n",
       "      <th>C</th>\n",
       "      <th>D</th>\n",
       "    </tr>\n",
       "  </thead>\n",
       "  <tbody>\n",
       "    <tr>\n",
       "      <th>0</th>\n",
       "      <td>1</td>\n",
       "      <td>3</td>\n",
       "      <td>5</td>\n",
       "      <td>7</td>\n",
       "    </tr>\n",
       "    <tr>\n",
       "      <th>1</th>\n",
       "      <td>2</td>\n",
       "      <td>4</td>\n",
       "      <td>6</td>\n",
       "      <td>8</td>\n",
       "    </tr>\n",
       "  </tbody>\n",
       "</table>\n",
       "</div>"
      ],
      "text/plain": [
       "   A  B  C  D\n",
       "0  1  3  5  7\n",
       "1  2  4  6  8"
      ]
     },
     "execution_count": 34,
     "metadata": {},
     "output_type": "execute_result"
    }
   ],
   "source": [
    "df1 = pd.DataFrame({'A': [1, 2], 'B': [3, 4]})\n",
    "df2 = pd.DataFrame({'C': [5, 6], 'D': [7, 8]})\n",
    "arr1=[df1,df2]\n",
    "neww=pd.concat(arr1,axis=1)\n",
    "neww"
   ]
  },
  {
   "cell_type": "code",
   "execution_count": 25,
   "metadata": {},
   "outputs": [
    {
     "name": "stdout",
     "output_type": "stream",
     "text": [
      "   A  value_left  B  value_right\n",
      "0  1          10  1           30\n",
      "1  2          20  2           40\n"
     ]
    }
   ],
   "source": [
    "\n",
    "df1 = pd.DataFrame({'A': [1, 2], 'value': [10, 20]})\n",
    "df2 = pd.DataFrame({'B': [1, 2], 'value': [30, 40]})\n",
    "\n",
    "result = pd.merge(df1, df2, left_on='A', right_on='B', suffixes=('_left', '_right'))\n",
    "print(result)\n"
   ]
  },
  {
   "cell_type": "code",
   "execution_count": 38,
   "metadata": {},
   "outputs": [
    {
     "name": "stdout",
     "output_type": "stream",
     "text": [
      "   A\n",
      "0  1\n",
      "1  2\n",
      "2  3\n",
      "3  4\n"
     ]
    }
   ],
   "source": [
    "\n",
    "df1 = pd.DataFrame({'A': [1, 2]})\n",
    "df2 = pd.DataFrame({'A': [3, 4]})\n",
    "\n",
    "result = pd.concat([df1, df2], ignore_index=True)\n",
    "print(result)\n"
   ]
  },
  {
   "cell_type": "code",
   "execution_count": 29,
   "metadata": {},
   "outputs": [
    {
     "data": {
      "text/html": [
       "<div>\n",
       "<style scoped>\n",
       "    .dataframe tbody tr th:only-of-type {\n",
       "        vertical-align: middle;\n",
       "    }\n",
       "\n",
       "    .dataframe tbody tr th {\n",
       "        vertical-align: top;\n",
       "    }\n",
       "\n",
       "    .dataframe thead th {\n",
       "        text-align: right;\n",
       "    }\n",
       "</style>\n",
       "<table border=\"1\" class=\"dataframe\">\n",
       "  <thead>\n",
       "    <tr style=\"text-align: right;\">\n",
       "      <th></th>\n",
       "      <th></th>\n",
       "      <th>value</th>\n",
       "    </tr>\n",
       "    <tr>\n",
       "      <th>letter</th>\n",
       "      <th>number</th>\n",
       "      <th></th>\n",
       "    </tr>\n",
       "  </thead>\n",
       "  <tbody>\n",
       "    <tr>\n",
       "      <th rowspan=\"2\" valign=\"top\">A</th>\n",
       "      <th>1</th>\n",
       "      <td>1</td>\n",
       "    </tr>\n",
       "    <tr>\n",
       "      <th>2</th>\n",
       "      <td>2</td>\n",
       "    </tr>\n",
       "    <tr>\n",
       "      <th rowspan=\"2\" valign=\"top\">B</th>\n",
       "      <th>1</th>\n",
       "      <td>3</td>\n",
       "    </tr>\n",
       "    <tr>\n",
       "      <th>2</th>\n",
       "      <td>4</td>\n",
       "    </tr>\n",
       "  </tbody>\n",
       "</table>\n",
       "</div>"
      ],
      "text/plain": [
       "               value\n",
       "letter number       \n",
       "A      1           1\n",
       "       2           2\n",
       "B      1           3\n",
       "       2           4"
      ]
     },
     "execution_count": 29,
     "metadata": {},
     "output_type": "execute_result"
    }
   ],
   "source": [
    "df1 = pd.DataFrame({'value': [1, 2]}, index=pd.MultiIndex.from_tuples([('A', 1), ('A',\n",
    "2)], names=['letter', 'number']))\n",
    "df2 = pd.DataFrame({'value': [3, 4]}, index=pd.MultiIndex.from_tuples([('B', 1), ('B',\n",
    "2)], names=['letter', 'number']))\n",
    "result = pd.concat([df1, df2])\n",
    "result\n"
   ]
  },
  {
   "cell_type": "code",
   "execution_count": 27,
   "metadata": {},
   "outputs": [
    {
     "name": "stdout",
     "output_type": "stream",
     "text": [
      "   A      B\n",
      "0  1      x\n",
      "1  2      y\n",
      "2  3   True\n",
      "3  4  False\n",
      "A     int64\n",
      "B    object\n",
      "dtype: object\n"
     ]
    }
   ],
   "source": [
    "df1 = pd.DataFrame({'A': [1, 2], 'B': ['x', 'y']})\n",
    "df2 = pd.DataFrame({'A': [3, 4], 'B': [True, False]})\n",
    "\n",
    "result = pd.concat([df1, df2], ignore_index=True)\n",
    "print(result)\n",
    "print(result.dtypes)\n"
   ]
  },
  {
   "cell_type": "code",
   "execution_count": null,
   "metadata": {},
   "outputs": [],
   "source": []
  }
 ],
 "metadata": {
  "kernelspec": {
   "display_name": "Python 3",
   "language": "python",
   "name": "python3"
  },
  "language_info": {
   "codemirror_mode": {
    "name": "ipython",
    "version": 3
   },
   "file_extension": ".py",
   "mimetype": "text/x-python",
   "name": "python",
   "nbconvert_exporter": "python",
   "pygments_lexer": "ipython3",
   "version": "3.12.1"
  }
 },
 "nbformat": 4,
 "nbformat_minor": 2
}

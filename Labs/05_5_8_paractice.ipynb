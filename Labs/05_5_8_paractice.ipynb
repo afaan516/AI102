{
 "cells": [
  {
   "cell_type": "code",
   "execution_count": 6,
   "metadata": {},
   "outputs": [
    {
     "name": "stdout",
     "output_type": "stream",
     "text": [
      "this is the array: [1 2 3 4]\n",
      "this is arrange method:  [5 7 9]\n",
      "this is the linespace method:  [ 1.   2.5  4.   5.5  7.   8.5 10. ]\n"
     ]
    }
   ],
   "source": [
    "import numpy as np\n",
    "#  it will convert list into array\n",
    "arr1= np.array([1,2,3,4])\n",
    "print('this is the array:',arr1)\n",
    "# arrange function takes step that is given\n",
    "arr2=np.arange(5, 10, 2)  #it is taking step of 2 from num 5 to 10\n",
    "print('this is arrange method: ',arr2)\n",
    "# linespace breaks array into no. of parts given by user\n",
    "arr3=np.linspace(1,10,7) #it is dividing into seven equal parts\n",
    "print('this is the linespace method: ',arr3)\n"
   ]
  },
  {
   "cell_type": "code",
   "execution_count": 7,
   "metadata": {},
   "outputs": [
    {
     "name": "stdout",
     "output_type": "stream",
     "text": [
      "this is the 2d array:  [[1 2 3]\n",
      " [4 5 6]]\n"
     ]
    }
   ],
   "source": [
    "# creating 2d arrays\n",
    "create_2darray=np.array([[1,2,3],[4,5,6]])\n",
    "print('this is the 2d array: ',create_2darray)"
   ]
  },
  {
   "cell_type": "code",
   "execution_count": 8,
   "metadata": {},
   "outputs": [
    {
     "name": "stdout",
     "output_type": "stream",
     "text": [
      "(2, 3)\n",
      "int64\n",
      "6\n",
      "2\n"
     ]
    }
   ],
   "source": [
    "# shape datatype size dimesional\n",
    "myarray=np.array([[1,2,3],[4,5,6]])\n",
    "print(myarray.shape)  #tells about rows and columns\n",
    "print(myarray.dtype)   #tells about datatype\n",
    "print(myarray.size)    # tell about total elemnts in 2d_array\n",
    "print(myarray.ndim)     # tells about dimenssion "
   ]
  },
  {
   "cell_type": "code",
   "execution_count": 10,
   "metadata": {},
   "outputs": [
    {
     "name": "stdout",
     "output_type": "stream",
     "text": [
      "22\n",
      "[[2]\n",
      " [5]]\n"
     ]
    }
   ],
   "source": [
    "import numpy as np\n",
    "arr= np.array([11,22,33,44])\n",
    "print(arr[1])\n",
    "arr2d = np.array([[1, 2, 3], [4, 5, 6], [7, 8, 9]])\n",
    "print(arr2d[0:2,1:2]) #getting only specific elements\n",
    "# print(arr2d[0:,2:2])"
   ]
  },
  {
   "cell_type": "code",
   "execution_count": 22,
   "metadata": {},
   "outputs": [
    {
     "name": "stdout",
     "output_type": "stream",
     "text": [
      "[[3 1]\n",
      " [4 2]]\n",
      "[3 1 4 2]\n",
      "[1 2 3 4]\n",
      "2\n"
     ]
    }
   ],
   "source": [
    "# reshape transpose sort maxvalue\n",
    "arr = np.array([3, 1, 4, 2])\n",
    "print(arr.reshape(2, 2))\n",
    "print(arr.transpose())\n",
    "# print(arr.sort())\n",
    "print(np.sort(arr))\n",
    "print(arr.argmax())\n"
   ]
  },
  {
   "cell_type": "code",
   "execution_count": 19,
   "metadata": {},
   "outputs": [
    {
     "name": "stdout",
     "output_type": "stream",
     "text": [
      "Add: [5 7 9]\n",
      "Sub: [-3 -3 -3]\n",
      "Mul: [ 4 10 18]\n",
      "Div: [0.25 0.4  0.5 ]\n",
      "Flordiv: [0 0 0]\n",
      "Modulo: [1 2 3]\n"
     ]
    }
   ],
   "source": [
    "arr1 = np.array([1, 2, 3])\n",
    "arr2 = np.array([4, 5, 6])\n",
    "\n",
    "print(\"Add:\", arr1 + arr2)\n",
    "print(\"Sub:\", arr1 - arr2)\n",
    "print(\"Mul:\", arr1 * arr2)\n",
    "print(\"Div:\", arr1 / arr2)\n",
    "print(\"Flordiv:\", arr1 // arr2)\n",
    "print(\"Modulo:\", arr1 % arr2)"
   ]
  },
  {
   "cell_type": "code",
   "execution_count": 20,
   "metadata": {},
   "outputs": [
    {
     "name": "stdout",
     "output_type": "stream",
     "text": [
      "[ 1  4  9 16 25]\n"
     ]
    }
   ],
   "source": [
    "arr = np.array([1, 2, 3, 4, 5])\n",
    "print(np.square(arr))"
   ]
  },
  {
   "cell_type": "code",
   "execution_count": 21,
   "metadata": {},
   "outputs": [
    {
     "name": "stdout",
     "output_type": "stream",
     "text": [
      "3.0\n",
      "3.0\n",
      "2.0\n",
      "1.4142135623730951\n",
      "5\n",
      "15\n"
     ]
    }
   ],
   "source": [
    "arr = np.array([1, 2, 3, 4, 5])\n",
    "print(np.mean(arr))\n",
    "print(np.median(arr))\n",
    "print(np.var(arr))\n",
    "print(np.std(arr))\n",
    "print(np.max(arr))\n",
    "print(np.sum(arr))"
   ]
  },
  {
   "cell_type": "code",
   "execution_count": 23,
   "metadata": {},
   "outputs": [
    {
     "name": "stdout",
     "output_type": "stream",
     "text": [
      "[[1 2 3]\n",
      " [4 5 6]]\n",
      "[[1 4]\n",
      " [2 5]\n",
      " [3 6]]\n"
     ]
    }
   ],
   "source": [
    "# Create a 2D array\n",
    "arr = np.array([[1, 2, 3],\n",
    "               [4, 5, 6]])\n",
    "\n",
    "# Transpose the array\n",
    "arr_transposed = np.transpose(arr)\n",
    "\n",
    "print(arr)\n",
    "print(arr_transposed)"
   ]
  }
 ],
 "metadata": {
  "kernelspec": {
   "display_name": "Python 3",
   "language": "python",
   "name": "python3"
  },
  "language_info": {
   "codemirror_mode": {
    "name": "ipython",
    "version": 3
   },
   "file_extension": ".py",
   "mimetype": "text/x-python",
   "name": "python",
   "nbconvert_exporter": "python",
   "pygments_lexer": "ipython3",
   "version": "3.12.1"
  }
 },
 "nbformat": 4,
 "nbformat_minor": 2
}

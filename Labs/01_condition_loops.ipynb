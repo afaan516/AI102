{
 "cells": [
  {
   "cell_type": "code",
   "execution_count": 1,
   "metadata": {},
   "outputs": [
    {
     "name": "stdout",
     "output_type": "stream",
     "text": [
      "13\n"
     ]
    }
   ],
   "source": [
    "# 3 greatest number\n",
    "def greatest(a,b,c):\n",
    "    if (a>b and a>c):\n",
    "        return a\n",
    "    elif (b>a and b>c):\n",
    "        return b\n",
    "    elif (c>a and c>a):\n",
    "        return c\n",
    "a=12\n",
    "b=13\n",
    "c=1\n",
    "print(greatest(a,b,c))\n"
   ]
  },
  {
   "cell_type": "code",
   "execution_count": 2,
   "metadata": {},
   "outputs": [
    {
     "name": "stdout",
     "output_type": "stream",
     "text": [
      "2X1=2\n",
      "2X2=4\n",
      "2X3=6\n",
      "2X4=8\n",
      "2X5=10\n",
      "2X6=12\n",
      "2X7=14\n",
      "2X8=16\n",
      "2X9=18\n",
      "2X10=20\n"
     ]
    }
   ],
   "source": [
    "# table\n",
    "def multiply(n):\n",
    "    for i in range(1,11):\n",
    "     \n",
    "        # if i>10:\n",
    "            # break\n",
    "    \n",
    "     print(f'{n}X{i}={n*i}')\n",
    "n = int(input('enter a number: '))\n",
    "multiply(n)"
   ]
  },
  {
   "cell_type": "code",
   "execution_count": 3,
   "metadata": {},
   "outputs": [
    {
     "name": "stdout",
     "output_type": "stream",
     "text": [
      "number is ngative\n"
     ]
    }
   ],
   "source": [
    "# positive and negative number\n",
    "n = -10\n",
    "if n>0:\n",
    "    print('number is positive')\n",
    "elif n<0:\n",
    "    print('number is ngative')\n",
    "else:print('number is zero')"
   ]
  },
  {
   "cell_type": "code",
   "execution_count": 4,
   "metadata": {},
   "outputs": [
    {
     "name": "stdout",
     "output_type": "stream",
     "text": [
      "0\n",
      "1\n",
      "1\n",
      "2\n",
      "3\n",
      "5\n",
      "8\n",
      "13\n",
      "21\n",
      "34\n",
      "\n"
     ]
    }
   ],
   "source": [
    "# fibonacci\n",
    "a,b=0,1\n",
    "while a<=50:\n",
    "    print(a)\n",
    "    a, b =b , a+b\n",
    "print()"
   ]
  },
  {
   "cell_type": "code",
   "execution_count": 2,
   "metadata": {},
   "outputs": [
    {
     "name": "stdout",
     "output_type": "stream",
     "text": [
      "hlo\n"
     ]
    }
   ],
   "source": [
    "# even number of a string\n",
    "inputnn= input('enter a string: ')\n",
    "res_string= ''\n",
    "for i in range(len(inputnn)):\n",
    "    if i % 2 == 0:\n",
    "        res_string += inputnn[i]\n",
    "print(res_string)"
   ]
  },
  {
   "cell_type": "code",
   "execution_count": 6,
   "metadata": {},
   "outputs": [
    {
     "name": "stdout",
     "output_type": "stream",
     "text": [
      "number is ngative\n"
     ]
    }
   ],
   "source": [
    "# positive and negative number\n",
    "n = -10\n",
    "if n>0:\n",
    "    print('number is positive')\n",
    "elif n<0:\n",
    "    print('number is ngative')\n",
    "else:print('number is zero')"
   ]
  },
  {
   "cell_type": "code",
   "execution_count": 7,
   "metadata": {},
   "outputs": [
    {
     "name": "stdout",
     "output_type": "stream",
     "text": [
      "2 is a prime number\n",
      "3 is a prime number\n",
      "5 is a prime number\n",
      "7 is a prime number\n",
      "11 is a prime number\n",
      "13 is a prime number\n",
      "17 is a prime number\n",
      "19 is a prime number\n"
     ]
    }
   ],
   "source": [
    "# prime numbers\n",
    "for num in range(2,20):\n",
    "    newprme=True\n",
    "    for i in range(2,num):\n",
    "        if num % i == 0:\n",
    "            newprme=False\n",
    "            \n",
    "    if newprme:\n",
    "        print(num,\"is a prime number\")"
   ]
  },
  {
   "cell_type": "code",
   "execution_count": 8,
   "metadata": {},
   "outputs": [
    {
     "name": "stdout",
     "output_type": "stream",
     "text": [
      "1\n",
      "2\n",
      "3\n",
      "4\n",
      "5\n",
      "6\n",
      "7\n",
      "8\n",
      "9\n",
      "10\n",
      "11\n",
      "12\n",
      "13\n"
     ]
    }
   ],
   "source": [
    "# positive numbers\n",
    "l=[-1,1,2,3,4,5,6,7,8,9,10,11,12,13]\n",
    "for num in l:\n",
    "    if num < 0:\n",
    "        continue\n",
    "    print(num)"
   ]
  }
 ],
 "metadata": {
  "kernelspec": {
   "display_name": "Python 3",
   "language": "python",
   "name": "python3"
  },
  "language_info": {
   "codemirror_mode": {
    "name": "ipython",
    "version": 3
   },
   "file_extension": ".py",
   "mimetype": "text/x-python",
   "name": "python",
   "nbconvert_exporter": "python",
   "pygments_lexer": "ipython3",
   "version": "3.12.5"
  }
 },
 "nbformat": 4,
 "nbformat_minor": 2
}

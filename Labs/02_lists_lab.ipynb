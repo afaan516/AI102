{
 "cells": [
  {
   "cell_type": "code",
   "execution_count": 1,
   "metadata": {},
   "outputs": [
    {
     "data": {
      "text/plain": [
       "26"
      ]
     },
     "execution_count": 1,
     "metadata": {},
     "output_type": "execute_result"
    }
   ],
   "source": [
    "#checking sum\n",
    "list=[1,7,-10,34,2,-8]\n",
    "sum(list)"
   ]
  },
  {
   "cell_type": "code",
   "execution_count": 2,
   "metadata": {},
   "outputs": [
    {
     "name": "stdout",
     "output_type": "stream",
     "text": [
      "list is empyt\n"
     ]
    }
   ],
   "source": [
    "# empty or not\n",
    "list=[]\n",
    "if not list:\n",
    "    print(\"list is empyt\")\n",
    "else:print(\"list is not empty\")"
   ]
  },
  {
   "cell_type": "code",
   "execution_count": 7,
   "metadata": {},
   "outputs": [
    {
     "data": {
      "text/plain": [
       "(1, 7, -10, 34, 2, -8)"
      ]
     },
     "execution_count": 7,
     "metadata": {},
     "output_type": "execute_result"
    }
   ],
   "source": [
    "# convert to tuple\n",
    "list=[1,7,-10,34,2,-8]\n",
    "newdata=tuple(list)\n",
    "newdata"
   ]
  },
  {
   "cell_type": "code",
   "execution_count": 16,
   "metadata": {},
   "outputs": [
    {
     "data": {
      "text/plain": [
       "(1, 7, -10, 34, 2, -8)"
      ]
     },
     "execution_count": 16,
     "metadata": {},
     "output_type": "execute_result"
    }
   ],
   "source": [
    "# convert a list to a tuple\n",
    "list1=(1,7,-10,34,2,-8)\n",
    "newdata=tuple(list1)\n",
    "newdata"
   ]
  },
  {
   "cell_type": "code",
   "execution_count": 9,
   "metadata": {},
   "outputs": [
    {
     "name": "stdout",
     "output_type": "stream",
     "text": [
      "34 8\n"
     ]
    }
   ],
   "source": [
    "# 4th element and 4th element from last of a tuple\n",
    "tupple=(1, 7, -10, 34, 2, -8,3,6,8,6,3,3,)\n",
    "n=tupple[3]\n",
    "m=tupple[-4]\n",
    "print(n,m)"
   ]
  },
  {
   "cell_type": "code",
   "execution_count": 10,
   "metadata": {},
   "outputs": [
    {
     "data": {
      "text/plain": [
       "{'name': 'ali', 'age': 23, 'city': 'saleem', 'gender': 'male'}"
      ]
     },
     "execution_count": 10,
     "metadata": {},
     "output_type": "execute_result"
    }
   ],
   "source": [
    "# concatenate following dictionaries to create a new one.\n",
    "dict11={'name':'ali','age':23}\n",
    "dict22={'city':'saleem','gender':'male'}\n",
    "combine=dict11.copy()\n",
    "combine.update(dict22)\n",
    "combine"
   ]
  },
  {
   "cell_type": "code",
   "execution_count": 11,
   "metadata": {},
   "outputs": [
    {
     "name": "stdout",
     "output_type": "stream",
     "text": [
      "brand\n",
      "model\n",
      "year\n"
     ]
    }
   ],
   "source": [
    "# print only keys of a dictionary\n",
    "mydict = {\n",
    "    \"brand\":\"Suzuki\",\n",
    "    \"model\":\"Alto\",\n",
    "    \"year\":\"2023\"\n",
    "}\n",
    "for x in mydict.keys():\n",
    "    print(x)"
   ]
  },
  {
   "cell_type": "code",
   "execution_count": 12,
   "metadata": {},
   "outputs": [
    {
     "data": {
      "text/plain": [
       "{1, 2, 3, 4}"
      ]
     },
     "execution_count": 12,
     "metadata": {},
     "output_type": "execute_result"
    }
   ],
   "source": [
    "# Write a Python program to add member(s) in a set\n",
    "myset = {1, 2, 3}\n",
    "myset.add(4)\n",
    "myset\n"
   ]
  },
  {
   "cell_type": "code",
   "execution_count": 1,
   "metadata": {},
   "outputs": [
    {
     "name": "stdout",
     "output_type": "stream",
     "text": [
      "Maximum element is: 42\n",
      "Minimum element is: 4\n"
     ]
    }
   ],
   "source": [
    "# maximum and the minimum\n",
    "myset = {15, 8, 23, 42, 4, 16}\n",
    "print(\"Maximum element is:\", max(myset))\n",
    "print(\"Minimum element is:\", min(myset))\n",
    "\n"
   ]
  }
 ],
 "metadata": {
  "kernelspec": {
   "display_name": "Python 3",
   "language": "python",
   "name": "python3"
  },
  "language_info": {
   "codemirror_mode": {
    "name": "ipython",
    "version": 3
   },
   "file_extension": ".py",
   "mimetype": "text/x-python",
   "name": "python",
   "nbconvert_exporter": "python",
   "pygments_lexer": "ipython3",
   "version": "3.12.5"
  }
 },
 "nbformat": 4,
 "nbformat_minor": 2
}
